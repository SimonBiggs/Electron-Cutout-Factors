{
 "metadata": {
  "name": "",
  "signature": "sha256:8ce8263bc3b4970f4a6ed9446a62a32103a9b5adab4cf7c9d2035913040dbb32"
 },
 "nbformat": 3,
 "nbformat_minor": 0,
 "worksheets": [
  {
   "cells": [
    {
     "cell_type": "heading",
     "level": 1,
     "metadata": {},
     "source": [
      "Electron cutout factor model notebook"
     ]
    },
    {
     "cell_type": "markdown",
     "metadata": {},
     "source": [
      "Description goes here"
     ]
    },
    {
     "cell_type": "heading",
     "level": 2,
     "metadata": {},
     "source": [
      "Loading the required packages"
     ]
    },
    {
     "cell_type": "code",
     "collapsed": false,
     "input": [
      "%pylab inline"
     ],
     "language": "python",
     "metadata": {},
     "outputs": []
    },
    {
     "cell_type": "code",
     "collapsed": false,
     "input": [
      "import datetime\n",
      "import os\n",
      "import csv\n",
      "from glob import glob"
     ],
     "language": "python",
     "metadata": {},
     "outputs": []
    },
    {
     "cell_type": "code",
     "collapsed": false,
     "input": [
      "from IPython.core.display import display_html\n",
      "import pandas as pd"
     ],
     "language": "python",
     "metadata": {},
     "outputs": []
    },
    {
     "cell_type": "code",
     "collapsed": false,
     "input": [
      "from scipy.interpolate import SmoothBivariateSpline"
     ],
     "language": "python",
     "metadata": {},
     "outputs": []
    },
    {
     "cell_type": "code",
     "collapsed": false,
     "input": [
      "import matplotlib.pyplot as plt\n",
      "from mpl_toolkits.mplot3d import Axes3D"
     ],
     "language": "python",
     "metadata": {},
     "outputs": []
    },
    {
     "cell_type": "code",
     "collapsed": false,
     "input": [
      "pylab.rcParams['savefig.dpi'] = 150 "
     ],
     "language": "python",
     "metadata": {},
     "outputs": []
    },
    {
     "cell_type": "code",
     "collapsed": false,
     "input": [
      "from userfunctions import *"
     ],
     "language": "python",
     "metadata": {},
     "outputs": []
    },
    {
     "cell_type": "heading",
     "level": 2,
     "metadata": {},
     "source": [
      "Load user parameters and report"
     ]
    },
    {
     "cell_type": "code",
     "collapsed": false,
     "input": [
      "parameterFilepath = \"../input/parameters.csv\"\n",
      "\n",
      "reader = csv.reader(open(parameterFilepath),delimiter=',')\n",
      "parameters = dict(([x[0],float(x[1])] for x in reader))\n",
      "\n",
      "parameters"
     ],
     "language": "python",
     "metadata": {},
     "outputs": []
    },
    {
     "cell_type": "heading",
     "level": 2,
     "metadata": {},
     "source": [
      "Retrieving/defining input file path"
     ]
    },
    {
     "cell_type": "code",
     "collapsed": false,
     "input": [
      "inputDataFilepath = os.environ.get('INPUTDATAFILEPATH', -1)\n",
      "\n",
      "if inputDataFilepath == -1:\n",
      "    inputDataFilelist = glob(\"../input/data/*.csv\")\n",
      "    inputDataFilepath = inputDataFilelist[1]\n",
      "    \n",
      "    print(\"Warning: input filepath was not retrievable\")"
     ],
     "language": "python",
     "metadata": {},
     "outputs": []
    },
    {
     "cell_type": "heading",
     "level": 2,
     "metadata": {},
     "source": [
      "Retrieving/defining output directory"
     ]
    },
    {
     "cell_type": "code",
     "collapsed": false,
     "input": [
      "outputDirectory = os.environ.get('MODELOUTPUTDIRECTORY', -1)\n",
      "\n",
      "if outputDirectory == -1:\n",
      "    stamp = datetime.datetime.now().strftime(\"%Y%m%d_%H%M%S\")\n",
      "    inputDataFilename = os.path.basename(inputDataFilepath)[0:-4]\n",
      "    outputDirectory = \"../output/\"+stamp+\"/\"+inputDataFilename\n",
      "    \n",
      "    print(\"Warning: model output directory was not retrievable\")\n",
      "\n",
      "if not os.path.exists(outputDirectory):\n",
      "    os.makedirs(outputDirectory)"
     ],
     "language": "python",
     "metadata": {},
     "outputs": []
    },
    {
     "cell_type": "heading",
     "level": 2,
     "metadata": {},
     "source": [
      "Load cutout data"
     ]
    },
    {
     "cell_type": "heading",
     "level": 3,
     "metadata": {},
     "source": [
      "Data filepath used"
     ]
    },
    {
     "cell_type": "code",
     "collapsed": false,
     "input": [
      "inputDataFilepath"
     ],
     "language": "python",
     "metadata": {},
     "outputs": []
    },
    {
     "cell_type": "code",
     "collapsed": false,
     "input": [
      "cutoutData = np.loadtxt(open(inputDataFilepath),delimiter=\",\",skiprows=1)\n",
      "width = cutoutData[:,0]\n",
      "length = cutoutData[:,1]\n",
      "factor = cutoutData[:,2]\n",
      "\n",
      "ratio = width/length"
     ],
     "language": "python",
     "metadata": {},
     "outputs": []
    },
    {
     "cell_type": "heading",
     "level": 3,
     "metadata": {},
     "source": [
      "The loaded data"
     ]
    },
    {
     "cell_type": "code",
     "collapsed": false,
     "input": [
      "df = pd.DataFrame(transpose([width, length, factor]))\n",
      "df.columns = ['Width', 'Length', 'Factor']\n",
      "display_html(df)"
     ],
     "language": "python",
     "metadata": {},
     "outputs": []
    },
    {
     "cell_type": "heading",
     "level": 3,
     "metadata": {},
     "source": [
      "Plot of the data provided"
     ]
    },
    {
     "cell_type": "code",
     "collapsed": false,
     "input": [
      "fig = plt.figure()\n",
      "ax = fig.add_subplot(111, projection='3d')\n",
      "\n",
      "bot = np.amin(factor) - 0.1 * np.ptp(factor)\n",
      "top = np.amax(factor) + 0.1 * np.ptp(factor)\n",
      "\n",
      "ax.scatter(width,ratio,bot,c='r',s=5)\n",
      "\n",
      "for i in range(len(factor)):\n",
      "    ax.plot([width[i],width[i]],[ratio[i],ratio[i]],[factor[i],bot],'k',alpha=0.5)\n",
      "    \n",
      "ax.scatter(width,ratio,factor,c='b')\n",
      "ax.set_xlabel('Width')\n",
      "ax.set_ylabel('Ratio')\n",
      "ax.set_zlabel('Factor')\n",
      "\n",
      "ax.set_title('Provided data')\n",
      "\n",
      "ax.set_zlim(bot,top)\n",
      "ax.view_init(elev=parameters['figureElev'], azim=parameters['figureAzim'])"
     ],
     "language": "python",
     "metadata": {},
     "outputs": []
    },
    {
     "cell_type": "heading",
     "level": 2,
     "metadata": {},
     "source": [
      "Spline fitting"
     ]
    },
    {
     "cell_type": "markdown",
     "metadata": {},
     "source": [
      "Mirror the data for spline fitting. This is done so that the full information available is used for the spline fitting around shapes with aspect ratios close to unity."
     ]
    },
    {
     "cell_type": "code",
     "collapsed": false,
     "input": [
      "widthMirrored = np.append(width,width)\n",
      "ratioLogMirrored = np.log2(np.append(width/length,length/width))\n",
      "factorMirrored = np.append(factor,factor)"
     ],
     "language": "python",
     "metadata": {},
     "outputs": []
    },
    {
     "cell_type": "markdown",
     "metadata": {},
     "source": [
      "Impliment the spline fit"
     ]
    },
    {
     "cell_type": "code",
     "collapsed": false,
     "input": [
      "splineFit = SmoothBivariateSpline(widthMirrored,ratioLogMirrored,factorMirrored)"
     ],
     "language": "python",
     "metadata": {},
     "outputs": []
    },
    {
     "cell_type": "heading",
     "level": 3,
     "metadata": {},
     "source": [
      "Plotting the spline fit in its natural form"
     ]
    },
    {
     "cell_type": "markdown",
     "metadata": {},
     "source": [
      "Explanation"
     ]
    },
    {
     "cell_type": "code",
     "collapsed": false,
     "input": [
      "fit_give([7,5],[-0.9,-0.5],widthMirrored,ratioLogMirrored,factorMirrored)"
     ],
     "language": "python",
     "metadata": {},
     "outputs": []
    },
    {
     "cell_type": "code",
     "collapsed": false,
     "input": [
      "xVec1 = linspace(widthMirrored.min(),widthMirrored.max(),100)\n",
      "yVec1 = linspace(ratioLogMirrored.min(),ratioLogMirrored.max(),100)\n",
      "\n",
      "xMesh1, yMesh1 = meshgrid(xVec1, yVec1)\n",
      "gapMesh1 = angle_gap(xMesh1,yMesh1,widthMirrored,ratioLogMirrored,1,2)\n",
      "giveMesh1 = fit_give(xMesh1,yMesh1,widthMirrored,ratioLogMirrored,factorMirrored)\n",
      "\n",
      "zMesh1 = splineFit.ev(xMesh1, yMesh1)\n",
      "\n",
      "ref1 = (gapMesh1>parameters['gapThreshold']) | (giveMesh1>parameters['giveThreshold'])\n",
      "zMesh1[ref1] = nan"
     ],
     "language": "python",
     "metadata": {},
     "outputs": []
    },
    {
     "cell_type": "code",
     "collapsed": false,
     "input": [
      "fig = plt.figure()\n",
      "ax = fig.add_subplot(111, projection='3d')\n",
      "\n",
      "ax.plot_surface(xMesh1,yMesh1,zMesh1,alpha=0.3,rstride=4,cstride=4)\n",
      "    \n",
      "ax.scatter(widthMirrored,ratioLogMirrored,factorMirrored,'b')\n",
      "ax.set_xlabel('Width')\n",
      "ax.set_ylabel('log2(ratio)')\n",
      "ax.set_zlabel('Factor')\n",
      "\n",
      "ax.set_title('Spline fit of mirrored data against width and log2(ratio)')\n",
      "\n",
      "ax.view_init(elev=parameters['figureElev'], azim=parameters['figureAzim'])"
     ],
     "language": "python",
     "metadata": {},
     "outputs": []
    },
    {
     "cell_type": "heading",
     "level": 3,
     "metadata": {},
     "source": [
      "Plotting the spline fit in the useful form"
     ]
    },
    {
     "cell_type": "markdown",
     "metadata": {},
     "source": [
      "Explaination"
     ]
    },
    {
     "cell_type": "code",
     "collapsed": false,
     "input": [
      "xVec2 = linspace(width.min(),width.max(),100)\n",
      "yVec2 = linspace(ratio.min(),ratio.max(),100)\n",
      "\n",
      "xMesh2, yMesh2 = meshgrid(xVec2, yVec2)\n",
      "gapMesh2 = angle_gap(xMesh2,log2(yMesh2),widthMirrored,ratioLogMirrored,1,2)\n",
      "giveMesh2 = fit_give(xMesh2,log2(yMesh2),widthMirrored,ratioLogMirrored,factorMirrored)\n",
      "\n",
      "zMesh2 = splineFit.ev(xMesh2, log2(yMesh2))\n",
      "\n",
      "ref2 = (gapMesh2>parameters['gapThreshold']) | (giveMesh2>parameters['giveThreshold'])\n",
      "zMesh2[ref2] = nan"
     ],
     "language": "python",
     "metadata": {},
     "outputs": []
    },
    {
     "cell_type": "code",
     "collapsed": false,
     "input": [
      "fig = plt.figure()\n",
      "ax = fig.add_subplot(111, projection='3d')\n",
      "\n",
      "ax.plot_surface(xMesh2,yMesh2,zMesh2,alpha=0.3,rstride=4,cstride=4)\n",
      "    \n",
      "sc = ax.scatter(width,ratio,factor)\n",
      "\n",
      "ax.set_xlabel('Width')\n",
      "ax.set_ylabel('Ratio')\n",
      "ax.set_zlabel('Factor')\n",
      "\n",
      "ax.set_title('Fit displayed against width and aspect ratio')\n",
      "\n",
      "ax.view_init(elev=parameters['figureElev'], azim=parameters['figureAzim'])"
     ],
     "language": "python",
     "metadata": {},
     "outputs": []
    },
    {
     "cell_type": "heading",
     "level": 2,
     "metadata": {},
     "source": [
      "Residuals"
     ]
    },
    {
     "cell_type": "markdown",
     "metadata": {},
     "source": [
      "Explaination here"
     ]
    },
    {
     "cell_type": "heading",
     "level": 3,
     "metadata": {},
     "source": [
      "Histogram of residuals"
     ]
    },
    {
     "cell_type": "code",
     "collapsed": false,
     "input": [
      "fig = plt.figure()\n",
      "\n",
      "fitFactors = splineFit.ev(width,log2(ratio))\n",
      "residuals = fitFactors - factor\n",
      "\n",
      "n, bins, patches = hist(residuals, 15)\n",
      "setp(patches, 'facecolor', 'g', 'alpha', 0.5)\n",
      "\n",
      "std(residuals)"
     ],
     "language": "python",
     "metadata": {},
     "outputs": []
    },
    {
     "cell_type": "heading",
     "level": 3,
     "metadata": {},
     "source": [
      "Scatter plot of residuals"
     ]
    },
    {
     "cell_type": "code",
     "collapsed": false,
     "input": [
      "fig = plt.figure()\n",
      "ax = fig.add_subplot(111, projection='3d')\n",
      "\n",
      "ax.plot_surface(xMesh2,yMesh2,zMesh2,alpha=0.3,rstride=4,cstride=4)\n",
      "    \n",
      "sc = ax.scatter(width,ratio,factor,c=abs(residuals))\n",
      "fig.colorbar(sc, label='Absolute residuals')\n",
      "\n",
      "ax.set_xlabel('Width')\n",
      "ax.set_ylabel('Ratio')\n",
      "ax.set_zlabel('Factor')\n",
      "\n",
      "ax.set_title('Data coloured according to absolute residuals')\n",
      "\n",
      "ax.view_init(elev=parameters['figureElev'], azim=parameters['figureAzim'])"
     ],
     "language": "python",
     "metadata": {},
     "outputs": []
    },
    {
     "cell_type": "heading",
     "level": 3,
     "metadata": {},
     "source": [
      "Table of residuals"
     ]
    },
    {
     "cell_type": "code",
     "collapsed": false,
     "input": [
      "df = pd.DataFrame(transpose([width, length, factor, fitFactors, residuals, residuals/std(residuals)]))\n",
      "df.columns = ['Width', 'Length', 'Measured Factor', 'Fit Factor', 'Residual', 'Standard deviations']\n",
      "display_html(df)"
     ],
     "language": "python",
     "metadata": {},
     "outputs": []
    },
    {
     "cell_type": "heading",
     "level": 2,
     "metadata": {},
     "source": [
      "Validation"
     ]
    },
    {
     "cell_type": "markdown",
     "metadata": {},
     "source": [
      "Validation tests are achieved by removing the data points in question, creating a new fit, and comparing the predicted value to the measured value."
     ]
    },
    {
     "cell_type": "code",
     "collapsed": false,
     "input": [
      "predictedFactor = zeros(shape(width))\n",
      "\n",
      "predictionAngleGap = zeros(shape(width))\n",
      "predictionFitGive = zeros(shape(width))\n",
      "#predictionFlexibility = zeros(shape(width))\n",
      "\n",
      "for i in range(len(width)):\n",
      "    \n",
      "    x = width[i]\n",
      "    y = log2(width[i]/length[i])\n",
      "    \n",
      "    adjWidth = np.delete(width,i)\n",
      "    adjLength = np.delete(length,i)\n",
      "    adjFactor = np.delete(factor,i)\n",
      "    \n",
      "    adjWidthMirrored = np.append(adjWidth,adjWidth)\n",
      "    adjRatioLogMirrored = np.log2(np.append(adjWidth/adjLength,adjLength/adjWidth))\n",
      "    adjFactorMirrored = np.append(adjFactor,adjFactor)\n",
      "\n",
      "    adjSplineFit = SmoothBivariateSpline(adjWidthMirrored,adjRatioLogMirrored,adjFactorMirrored)\n",
      "    \n",
      "    predictedFactor[i] = adjSplineFit.ev(x,y)\n",
      "    predictionAngleGap[i] = angle_gap(x,y,adjWidthMirrored,adjRatioLogMirrored,1,2)\n",
      "    predictionFitGive[i] = fit_give(x,y,adjWidthMirrored,adjRatioLogMirrored,adjFactorMirrored)"
     ],
     "language": "python",
     "metadata": {},
     "outputs": []
    },
    {
     "cell_type": "code",
     "collapsed": false,
     "input": [
      "difference = factor - predictedFactor\n",
      "\n",
      "df = pd.DataFrame(transpose([width, length, factor, predictedFactor, difference, predictionAngleGap, predictionFitGive]))\n",
      "df.columns = ['Width', 'Length', 'Measured Factor', 'Predicted Factor', 'Difference', 'Angle Gap', 'Fit Give']\n",
      "display_html(df)\n",
      "\n",
      "#highlight in table? Colours for \"pass threshold\" etc..."
     ],
     "language": "python",
     "metadata": {},
     "outputs": []
    },
    {
     "cell_type": "markdown",
     "metadata": {},
     "source": [
      "Given the following tolerances:"
     ]
    },
    {
     "cell_type": "code",
     "collapsed": false,
     "input": [
      "df = pd.DataFrame([parameters['gapThreshold'], parameters['giveThreshold']])\n",
      "df.index = ['Gap Threshold', 'Give Threshold']\n",
      "df.columns = ['Parameters']\n",
      "display_html(df)"
     ],
     "language": "python",
     "metadata": {},
     "outputs": []
    },
    {
     "cell_type": "markdown",
     "metadata": {},
     "source": [
      "The standard deviation of the prediction differences for valid data points is given as the following:"
     ]
    },
    {
     "cell_type": "code",
     "collapsed": false,
     "input": [
      "ref = (predictionAngleGap<parameters['gapThreshold']) & (predictionFitGive<parameters['giveThreshold'])\n",
      "\n",
      "print(\"There are\", sum(ref), \"points within give and gap thresholds.\"+\n",
      "      \"\\nThe standard deviation of the prediction differences for these is\",std(difference[ref]))"
     ],
     "language": "python",
     "metadata": {},
     "outputs": []
    },
    {
     "cell_type": "heading",
     "level": 2,
     "metadata": {},
     "source": [
      "Fit flexibility"
     ]
    },
    {
     "cell_type": "code",
     "collapsed": false,
     "input": [],
     "language": "python",
     "metadata": {},
     "outputs": []
    },
    {
     "cell_type": "heading",
     "level": 2,
     "metadata": {},
     "source": [
      "Output fit in csv format"
     ]
    },
    {
     "cell_type": "code",
     "collapsed": false,
     "input": [
      "#two outputs, the fit for interpolation, and the uncertainty for interpolation\n",
      "#use the requested number of rows and columns for the interpolation table"
     ],
     "language": "python",
     "metadata": {},
     "outputs": []
    },
    {
     "cell_type": "heading",
     "level": 2,
     "metadata": {},
     "source": [
      "Output requested data point"
     ]
    },
    {
     "cell_type": "code",
     "collapsed": false,
     "input": [
      "#include measurement uncertainty if it is inputted"
     ],
     "language": "python",
     "metadata": {},
     "outputs": []
    }
   ],
   "metadata": {}
  }
 ]
}