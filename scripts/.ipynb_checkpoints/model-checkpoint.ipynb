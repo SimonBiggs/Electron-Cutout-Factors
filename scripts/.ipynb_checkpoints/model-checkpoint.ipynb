{
 "metadata": {
  "name": "",
  "signature": "sha256:7669114f051ec944fdf0b725f55240bf3ff24d87879ecd3b6a44b0c9ca287e50"
 },
 "nbformat": 3,
 "nbformat_minor": 0,
 "worksheets": [
  {
   "cells": [
    {
     "cell_type": "heading",
     "level": 1,
     "metadata": {},
     "source": [
      "Electron cutout factor model report"
     ]
    },
    {
     "cell_type": "markdown",
     "metadata": {},
     "source": [
      "This model allows for the prediction of electron cut-out factors from previously measured cutouts. Input data is retrieved from csv files saved at `input/data/*.csv`. These measured cutout factors are then modelled using a smoothing spline. A region is defined which is considered to have sufficent cutout data for prediction. Over this valid region the provided data is used to predict an overall uncertainty for prediction. These results are then output to user friendly csv files.\n",
      "\n",
      "This is a print out of the code that was run in order to produce the outputs given within this directory.\n",
      "\n",
      "##Code Overview##\n",
      "The code is broken up into three major sections, [code initialisation](#Code-initialisation), [primary computations](#Primary-computations), and finally [output data to files](#Output-data-to-files). Below is an overview of these sections.\n",
      "\n",
      "###[Code initialisation](#Code-initialisation)###\n",
      " * **[Required packages](#Required-packages)** | Loading of the required python packages.\n",
      "   * [Loading packages](#Loading-packages)\n",
      "   * [Package options](#Package-options)\n",
      " * **[User parameters](#User-parameters)** | Importing the user parameters from `input/parameters.csv`.\n",
      "   * [Load](#Load)\n",
      "   * [Display](#Diplay)\n",
      " * **[Input output paths and directories](#Input-output-paths-and-directories)** | Defining the locations where files are loaded from and saved to.\n",
      "   * [Input](#Input)\n",
      "   * [Output](#Output)\n",
      "\n",
      "\n",
      "###[Primary computations](#Primary-computations)###\n",
      " * **[The cutout data](#The-cutout-data)** | The data provided within the particular `input/data/*.csv` file is loaded and displayed.\n",
      "   * [Load data](#Load-data)\n",
      "   * [Table of the received data](#Table-of-the-received-data)\n",
      "   * [Figure of the received data](#Figure-of-the-received-data)\n",
      " * **[Creating the fit](#Creating-the-fit)** | The spline fit is created using scipy's SmoothBivariateSpline function. This fit is created in the space of x = width, y = log2(ratio), z = factor. The data is mirrored through the y axis in order to take into account that width / length is equivalent to length / width.\n",
      "   * [Spline](#Spline)\n",
      "   * [Mirrored form](#Mirrored-form) | A figure of the spline represented in its mirrored form against width and log2(aspect ratio).\n",
      "   * [Width and aspect ratio form](#Width-and-aspect-ratio-form) | A figure of the spline given in the more relevant form against width and aspect ratio.\n",
      " * **[Valid region definitions](#Valid-region-definitions)** | Figures of the valid regions that are used to limit the spline fit.\n",
      "   * [Angle gap](#Angle-gap)\n",
      "   * [Fit give](#Fit-give)\n",
      " * **[Residuals](#Residuals)** | Various representations of the differences between the spline fit and the measured cutout factors.\n",
      "   * [Residuals standard deviation](#Residuals-standard-deviation)\n",
      "   * [Residuals histogram](#Residuals-histogram)\n",
      "   * [Residuals scatter plot](#Residuals-scatter-plot)\n",
      "   * [Residuals table](#Residuals-table)\n",
      " * **[Prediction uncertainty](#Prediction-uncertainty)** | Calculation of the uncertainty of prediction. It is achieved by remodelling the spline fit with individual data points removed. The fits ability to predict measured data points, within its valid region, when the fit does not have the information for that point is used to estimate the uncertainty of prediction.\n",
      "   * [Remove data and recalculate fit](#Remove-data-and-recalculate-fit)\n",
      "   * [User defined thresholds](#User-defined-thresholds)\n",
      "   * [Prediction differences table](#Prediction-differences-table)\n",
      "   * [Standard deviation of valid prediction differences](#Standard-deviation-of-valid-prediction-differences)\n",
      "   * [Histogram of valid prediction differences](#Histogram-of-valid-prediction-differences)\n",
      " \n",
      "\n",
      "###[Output data to files](#Output-data-to-files)###\n",
      " * **[Interpolation table](#Interpolation-table)** | Build and save an interpolation table of the spline fit according to the users specifications within `input/parameters.csv`. Interpolation table is saved to the model output directory as `interpolation-table.csv`.\n",
      "   * [User defined grid size](#User-defined-grid-size)\n",
      "   * [Creating the interpolation mesh](#Creating-the-interpolation-mesh)\n",
      "   * [Save interploation table to csv](#Save-interpolation-table-to-csv)\n",
      " * **[Requested cutout factors](#Requested-cutout-factors)** | Calculate and save the cutouts requested within the corresponding file found at `input/requested-cutouts/*.csv`. Program looks for a file with equivalent name to the loaded data file. The predicted cutout factors are saved to the model output directory as `predicted-cutouts.csv`.\n",
      "   * [File used](#File-used)\n",
      "   * [Loading the requested cutouts](#Loading-the-requested-cutouts)\n",
      "   * [Calculating the requested factors](#Calculating-the-requested-factors)\n",
      "   * [Save requested factor outputs to csv](#Save-requested-factor-outputs-to-csv)"
     ]
    },
    {
     "cell_type": "heading",
     "level": 2,
     "metadata": {},
     "source": [
      "Code initialisation"
     ]
    },
    {
     "cell_type": "heading",
     "level": 3,
     "metadata": {},
     "source": [
      "Required packages"
     ]
    },
    {
     "cell_type": "markdown",
     "metadata": {},
     "source": [
      "Loading of the required python packages"
     ]
    },
    {
     "cell_type": "heading",
     "level": 4,
     "metadata": {},
     "source": [
      "Loading packages"
     ]
    },
    {
     "cell_type": "code",
     "collapsed": false,
     "input": [
      "# Imports numpy and matplotlib\n",
      "# Libraries similar to MATLAB / Octave\n",
      "%pylab inline\n",
      "\n",
      "# For naming files\n",
      "import datetime\n",
      "\n",
      "# For directory and file control\n",
      "import os\n",
      "\n",
      "# To find list of csv files\n",
      "from glob import glob\n",
      "\n",
      "# To read csv files\n",
      "import csv\n",
      "\n",
      "# For the displaying, loading, and saving of tables\n",
      "import pandas as pd\n",
      "\n",
      "# To display panda tables as html\n",
      "from IPython.core.display import display_html\n",
      "\n",
      "# The interpolation method employed by this model\n",
      "from scipy.interpolate import SmoothBivariateSpline\n",
      "\n",
      "# Enables 3D plots within matplotlib\n",
      "from mpl_toolkits.mplot3d import Axes3D\n",
      "\n",
      "# Imports the give and gap threshold functions contained within threshold_functions.py\n",
      "from threshold_functions import *"
     ],
     "language": "python",
     "metadata": {},
     "outputs": []
    },
    {
     "cell_type": "markdown",
     "metadata": {},
     "source": [
      "[Back to top](#Electron-cutout-factor-model-report)"
     ]
    },
    {
     "cell_type": "heading",
     "level": 4,
     "metadata": {},
     "source": [
      "Package options"
     ]
    },
    {
     "cell_type": "code",
     "collapsed": false,
     "input": [
      "# Makes the panda tables display no more than 12 columns\n",
      "# The html output bugs out without this\n",
      "pd.options.display.max_columns = 12\n",
      "\n",
      "# Makes all figures have a higher resolution\n",
      "# Figures were too small without this\n",
      "pylab.rcParams['savefig.dpi'] = 150"
     ],
     "language": "python",
     "metadata": {},
     "outputs": []
    },
    {
     "cell_type": "markdown",
     "metadata": {},
     "source": [
      "[Back to top](#Electron-cutout-factor-model-report)"
     ]
    },
    {
     "cell_type": "heading",
     "level": 3,
     "metadata": {},
     "source": [
      "User parameters"
     ]
    },
    {
     "cell_type": "markdown",
     "metadata": {},
     "source": [
      "Importing the user parameters from `/input/parameters.csv`"
     ]
    },
    {
     "cell_type": "heading",
     "level": 4,
     "metadata": {},
     "source": [
      "Load"
     ]
    },
    {
     "cell_type": "code",
     "collapsed": false,
     "input": [
      "# The file path of the paramters.csv file\n",
      "parameterFilepath = \"../input/parameters.csv\"\n",
      "\n",
      "# Loads the parameters.csv file\n",
      "reader = csv.reader(open(parameterFilepath),delimiter=',')\n",
      "\n",
      "# Create a dictionary where the keys are the first column of the csv \n",
      "# and the values are the corresponding second column\n",
      "parameters = dict(([x[0],float(x[1])] for x in reader))"
     ],
     "language": "python",
     "metadata": {},
     "outputs": []
    },
    {
     "cell_type": "markdown",
     "metadata": {},
     "source": [
      "[Back to top](#Electron-cutout-factor-model-report)"
     ]
    },
    {
     "cell_type": "heading",
     "level": 4,
     "metadata": {},
     "source": [
      "Display"
     ]
    },
    {
     "cell_type": "code",
     "collapsed": false,
     "input": [
      "# Outputs the contents of the dictionary `parameters`\n",
      "parameters"
     ],
     "language": "python",
     "metadata": {},
     "outputs": []
    },
    {
     "cell_type": "markdown",
     "metadata": {},
     "source": [
      "[Back to top](#Electron-cutout-factor-model-report)"
     ]
    },
    {
     "cell_type": "heading",
     "level": 3,
     "metadata": {},
     "source": [
      "Input output paths and directories"
     ]
    },
    {
     "cell_type": "markdown",
     "metadata": {},
     "source": [
      "Defining the locations where files are loaded from and saved to"
     ]
    },
    {
     "cell_type": "heading",
     "level": 4,
     "metadata": {},
     "source": [
      "Input"
     ]
    },
    {
     "cell_type": "code",
     "collapsed": false,
     "input": [
      "# If this notebook was produced as expected using the `runmodel.py` script\n",
      "# then the input filepath is stored in the processes environmental variable\n",
      "inputDataFilepath = os.environ.get('INPUTDATAFILEPATH', -1)\n",
      "\n",
      "# If this notebook was not produced in the expected manner a dummy filepath is used\n",
      "# This will print a warning\n",
      "if inputDataFilepath == -1:\n",
      "    inputDataFilelist = glob(\"../input/data/*.csv\")\n",
      "    inputDataFilepath = inputDataFilelist[0]\n",
      "    \n",
      "    print(\"Warning: input filepath was not retrievable\")\n",
      "\n",
      "# Store the base filename that has been used to run this script\n",
      "inputDataFilename = os.path.basename(inputDataFilepath)[0:-4]"
     ],
     "language": "python",
     "metadata": {},
     "outputs": []
    },
    {
     "cell_type": "code",
     "collapsed": false,
     "input": [
      "# Display the input file path\n",
      "inputDataFilepath"
     ],
     "language": "python",
     "metadata": {},
     "outputs": []
    },
    {
     "cell_type": "markdown",
     "metadata": {},
     "source": [
      "[Back to top](#Electron-cutout-factor-model-report)"
     ]
    },
    {
     "cell_type": "heading",
     "level": 4,
     "metadata": {},
     "source": [
      "Output"
     ]
    },
    {
     "cell_type": "code",
     "collapsed": false,
     "input": [
      "# If this notebook was produced as expected using the `runmodel.py` script\n",
      "# then the model output directory is stored in the processes environmental variable\n",
      "modelOutputDirectory = os.environ.get('MODELOUTPUTDIRECTORY', -1)\n",
      "\n",
      "# If this notebook was not produced in the expected manner a dummy directory is used\n",
      "# This will print a warning\n",
      "if modelOutputDirectory == -1:\n",
      "    stamp = datetime.datetime.now().strftime(\"%Y%m%d_%H%M%S\")\n",
      "    inputDataFilename = os.path.basename(inputDataFilepath)[0:-4]\n",
      "    modelOutputDirectory = \"../output/\"+stamp+\"/\"+inputDataFilename\n",
      "    \n",
      "    print(\"Warning: model output directory was not retrievable\")\n",
      "\n",
      "# Creates the required directory if it does not already exist\n",
      "if not os.path.exists(modelOutputDirectory):\n",
      "    os.makedirs(modelOutputDirectory)"
     ],
     "language": "python",
     "metadata": {},
     "outputs": []
    },
    {
     "cell_type": "code",
     "collapsed": false,
     "input": [
      "# Display the model output directory\n",
      "modelOutputDirectory"
     ],
     "language": "python",
     "metadata": {},
     "outputs": []
    },
    {
     "cell_type": "markdown",
     "metadata": {},
     "source": [
      "[Back to top](#Electron-cutout-factor-model-report)"
     ]
    },
    {
     "cell_type": "heading",
     "level": 2,
     "metadata": {},
     "source": [
      "Primary computations"
     ]
    },
    {
     "cell_type": "heading",
     "level": 3,
     "metadata": {},
     "source": [
      "The cutout data"
     ]
    },
    {
     "cell_type": "markdown",
     "metadata": {},
     "source": [
      " The data provided within the particular `input/data/*.csv` file is loaded and displayed."
     ]
    },
    {
     "cell_type": "heading",
     "level": 4,
     "metadata": {},
     "source": [
      "Load data"
     ]
    },
    {
     "cell_type": "code",
     "collapsed": false,
     "input": [
      "# Use pandas to load the csv file\n",
      "cutoutData = pd.read_csv(inputDataFilepath)\n",
      "\n",
      "# Define width, length, and factor as the csv columns\n",
      "# which had that corresponding header\n",
      "width = cutoutData['width'].values\n",
      "length = cutoutData['length'].values\n",
      "factor = cutoutData['factor'].values\n",
      "\n",
      "# Swap width and length values if order was mistaken\n",
      "swap = width > length\n",
      "\n",
      "store = width[swap]\n",
      "width[swap] = length[swap]\n",
      "length[swap] = store\n",
      "\n",
      "# Define the cutout aspect ratio\n",
      "ratio = width/length"
     ],
     "language": "python",
     "metadata": {},
     "outputs": []
    },
    {
     "cell_type": "markdown",
     "metadata": {},
     "source": [
      "[Back to top](#Electron-cutout-factor-model-report)"
     ]
    },
    {
     "cell_type": "heading",
     "level": 4,
     "metadata": {},
     "source": [
      "Table of the received data"
     ]
    },
    {
     "cell_type": "code",
     "collapsed": false,
     "input": [
      "# Create a pandas table using the width, length, and factor variables\n",
      "# for the purpose of display\n",
      "df = pd.DataFrame(transpose([width, length, factor]))\n",
      "\n",
      "# Label the columns\n",
      "df.columns = ['width', 'length', 'factor']\n",
      "\n",
      "# Display the table in html format\n",
      "display_html(df)"
     ],
     "language": "python",
     "metadata": {},
     "outputs": []
    },
    {
     "cell_type": "markdown",
     "metadata": {},
     "source": [
      "[Back to top](#Electron-cutout-factor-model-report)"
     ]
    },
    {
     "cell_type": "heading",
     "level": 4,
     "metadata": {},
     "source": [
      "Figure of the received data"
     ]
    },
    {
     "cell_type": "code",
     "collapsed": false,
     "input": [
      "# Create a figure object\n",
      "fig = plt.figure()\n",
      "\n",
      "# Add a 3D axis\n",
      "ax = fig.add_subplot(111, projection='3d')\n",
      "\n",
      "# Calculate the z axis limits\n",
      "bot = np.amin(factor) - 0.04 * np.ptp(factor)\n",
      "top = np.amax(factor) + 0.04 * np.ptp(factor)\n",
      "\n",
      "# Create a red scatter plot on the bottom plane of the figure\n",
      "# for visual reference\n",
      "ax.scatter(width,ratio,bot,c='r',s=5)\n",
      "\n",
      "# Draw black lines connecting each data point and the bottom plane\n",
      "# for visual reference\n",
      "for i in range(len(factor)):\n",
      "    ax.plot([width[i],width[i]],[ratio[i],ratio[i]],[factor[i],bot],'k',alpha=0.5)\n",
      "\n",
      "# Scatter plot the 3D data that has been provided\n",
      "ax.scatter(width,ratio,factor,c='b')\n",
      "\n",
      "# Define the figure labels\n",
      "ax.set_xlabel('Width')\n",
      "ax.set_ylabel('Ratio')\n",
      "ax.set_zlabel('Factor')\n",
      "\n",
      "# Define the figure title\n",
      "ax.set_title('Provided data')\n",
      "\n",
      "# Enforce the z axis limits previously calculated\n",
      "ax.set_zlim(bot,top)\n",
      "\n",
      "# Adjust the viewing angle of the figure to that requested in `parameters.csv`\n",
      "ax.view_init(elev=parameters['figureElev'], azim=parameters['figureAzim'])"
     ],
     "language": "python",
     "metadata": {},
     "outputs": []
    },
    {
     "cell_type": "markdown",
     "metadata": {},
     "source": [
      "[Back to top](#Electron-cutout-factor-model-report)"
     ]
    },
    {
     "cell_type": "heading",
     "level": 3,
     "metadata": {},
     "source": [
      "Creating the fit"
     ]
    },
    {
     "cell_type": "markdown",
     "metadata": {},
     "source": [
      "The spline fit is created using scipy's SmoothBivariateSpline function. This fit is created in the space of x = width, y = log2(ratio), z = factor. The data is mirrored through the y axis in order to take into account that width / length is equivalent to length / width."
     ]
    },
    {
     "cell_type": "heading",
     "level": 4,
     "metadata": {},
     "source": [
      "Spline"
     ]
    },
    {
     "cell_type": "markdown",
     "metadata": {},
     "source": [
      "Mirror the data for spline fitting. This is done so that the full information available is used for the spline fitting around shapes with aspect ratios close to unity."
     ]
    },
    {
     "cell_type": "code",
     "collapsed": false,
     "input": [
      "# Duplicate the width data\n",
      "widthMirrored = np.append(width,width)\n",
      "\n",
      "# Mirror the ratio data and take the base 2 log\n",
      "ratioLogMirrored = np.log2(np.append(width/length,length/width))\n",
      "\n",
      "# Duplicate the factor data\n",
      "factorMirrored = np.append(factor,factor)"
     ],
     "language": "python",
     "metadata": {},
     "outputs": []
    },
    {
     "cell_type": "markdown",
     "metadata": {},
     "source": [
      "Impliment the spline fit"
     ]
    },
    {
     "cell_type": "code",
     "collapsed": false,
     "input": [
      "# Compute the smoothed bivariate spline using the mirrored data\n",
      "splineFit = SmoothBivariateSpline(widthMirrored,ratioLogMirrored,factorMirrored)"
     ],
     "language": "python",
     "metadata": {},
     "outputs": []
    },
    {
     "cell_type": "markdown",
     "metadata": {},
     "source": [
      "[Back to top](#Electron-cutout-factor-model-report)"
     ]
    },
    {
     "cell_type": "heading",
     "level": 4,
     "metadata": {},
     "source": [
      "Mirrored form"
     ]
    },
    {
     "cell_type": "markdown",
     "metadata": {},
     "source": [
      " A figure of the spline represented in its mirrored form against width and log2(aspect ratio)."
     ]
    },
    {
     "cell_type": "code",
     "collapsed": false,
     "input": [
      "# Create vectors of 100 equally spaced values over the data domain\n",
      "# Domain used is width vs log2(ratio)\n",
      "xVec1 = linspace(widthMirrored.min(),widthMirrored.max(),100)\n",
      "yVec1 = linspace(ratioLogMirrored.min(),ratioLogMirrored.max(),100)\n",
      "\n",
      "# Create a mesh using the vectors created\n",
      "xMesh1, yMesh1 = meshgrid(xVec1, yVec1)\n",
      "\n",
      "# Using the angle_gap and fit_give functions defined within `threshold_functions.py` \n",
      "# to calculate the angle gap and fit give for each width and ratio position \n",
      "# attempting to be plotted\n",
      "gapMesh1 = angle_gap(xMesh1,yMesh1,widthMirrored,ratioLogMirrored,1,2)\n",
      "giveMesh1 = fit_give(xMesh1,yMesh1,widthMirrored,ratioLogMirrored,factorMirrored)\n",
      "\n",
      "# Use the spline model to predict the cutout factor at each of the meshed postions\n",
      "zMesh1 = splineFit.ev(xMesh1, yMesh1)\n",
      "\n",
      "# Find all the positions for which the spline model is above the user defined thresholds\n",
      "ref1 = (gapMesh1>parameters['gapThreshold']) | (giveMesh1>parameters['giveThreshold'])\n",
      "\n",
      "# Replace invalid predictions with NaN\n",
      "zMesh1[ref1] = nan"
     ],
     "language": "python",
     "metadata": {},
     "outputs": []
    },
    {
     "cell_type": "code",
     "collapsed": false,
     "input": [
      "# Create a figure object\n",
      "fig = plt.figure()\n",
      "\n",
      "# Create a 3D axis\n",
      "ax = fig.add_subplot(111, projection='3d')\n",
      "\n",
      "# Plot contours of the boundaries defined by the give and gap thresholds\n",
      "ax.contour(xMesh1,yMesh1,gapMesh1, offset=bot, levels=[parameters['gapThreshold']], colors='r',alpha=0.3)\n",
      "ax.contour(xMesh1,yMesh1,giveMesh1, offset=bot, levels=[parameters['giveThreshold']], colors='g',alpha=0.3)\n",
      "\n",
      "# Create an undrawn line with the same colour as the contours for the use in the legend\n",
      "proxyGap, = ax.plot([width.min(),width.min()],[ratioLogMirrored.min(),ratioLogMirrored.min()],[bot,bot],'r-',alpha=0.3)\n",
      "proxyGive, = ax.plot([width.min(),width.min()],[ratioLogMirrored.min(),ratioLogMirrored.min()],[bot,bot],'g-',alpha=0.3)\n",
      "\n",
      "# Plot the calculated surface fit\n",
      "ax.plot_surface(xMesh1,yMesh1,zMesh1,alpha=0.3,rstride=4,cstride=4)\n",
      "\n",
      "# Plot the measured data\n",
      "ax.scatter(widthMirrored,ratioLogMirrored,factorMirrored,'b')\n",
      "\n",
      "# Define axis labels\n",
      "ax.set_xlabel('Width')\n",
      "ax.set_ylabel('log2(ratio)')\n",
      "ax.set_zlabel('Factor')\n",
      "\n",
      "# Define title\n",
      "ax.set_title('Spline fit of mirrored data against width and log2(ratio)')\n",
      "\n",
      "# Enforce the z axis limits\n",
      "ax.set_zlim(bot,top)\n",
      "\n",
      "# Adjust the viewing angle of the figure to that requested in `parameters.csv`\n",
      "ax.view_init(elev=parameters['figureElev'], azim=parameters['figureAzim'])\n",
      "\n",
      "# Draw the legend using the undrawn lines as proxys for the threshold contours\n",
      "legend([proxyGap,proxyGive],['Gap threshold', 'Give threshold'],loc=7,prop={'size':8})"
     ],
     "language": "python",
     "metadata": {},
     "outputs": []
    },
    {
     "cell_type": "markdown",
     "metadata": {},
     "source": [
      "[Back to top](#Electron-cutout-factor-model-report)"
     ]
    },
    {
     "cell_type": "heading",
     "level": 4,
     "metadata": {},
     "source": [
      "Width and aspect ratio form"
     ]
    },
    {
     "cell_type": "markdown",
     "metadata": {},
     "source": [
      " A figure of the spline given in the more relevant form against width and aspect ratio."
     ]
    },
    {
     "cell_type": "code",
     "collapsed": false,
     "input": [
      "# Create vectors of 100 equally spaced values over the data domain\n",
      "# Domain used is width vs ratio\n",
      "xVec2 = linspace(width.min(),width.max(),100)\n",
      "yVec2 = linspace(ratio.min(),ratio.max(),100)\n",
      "\n",
      "# Create a mesh using the vectors created\n",
      "xMesh2, yMesh2 = meshgrid(xVec2, yVec2)\n",
      "\n",
      "# Using the angle_gap and fit_give functions defined within `threshold_functions.py` \n",
      "# to calculate the angle gap and fit give for each width and ratio position \n",
      "# attempting to be plotted\n",
      "gapMesh2 = angle_gap(xMesh2,log2(yMesh2),widthMirrored,ratioLogMirrored,1,2)\n",
      "giveMesh2 = fit_give(xMesh2,log2(yMesh2),widthMirrored,ratioLogMirrored,factorMirrored)\n",
      "\n",
      "# Use the spline model to predict the cutout factor at each of the meshed postions\n",
      "zMesh2 = splineFit.ev(xMesh2, log2(yMesh2))\n",
      "\n",
      "# Find all the positions for which the spline model is above the user defined thresholds\n",
      "ref2 = (gapMesh2>parameters['gapThreshold']) | (giveMesh2>parameters['giveThreshold'])\n",
      "\n",
      "# Replace invalid predictions with NaN\n",
      "zMesh2[ref2] = nan"
     ],
     "language": "python",
     "metadata": {},
     "outputs": []
    },
    {
     "cell_type": "code",
     "collapsed": false,
     "input": [
      "# Create a figure object\n",
      "fig = plt.figure()\n",
      "\n",
      "# Create a 3D axis\n",
      "ax = fig.add_subplot(111, projection='3d')\n",
      "\n",
      "# Plot contours of the boundaries defined by the give and gap thresholds\n",
      "ax.contour(xMesh2,yMesh2,gapMesh2, offset=bot, levels=[parameters['gapThreshold']], colors='r',alpha=0.3)\n",
      "ax.contour(xMesh2,yMesh2,giveMesh2, offset=bot, levels=[parameters['giveThreshold']], colors='g',alpha=0.3)\n",
      "\n",
      "# Create an undrawn line with the same colour as the contours for the use in the legend\n",
      "proxyGap, = ax.plot([width.min(),width.min()],[ratio.min(),ratio.min()],[bot,bot],'r-',alpha=0.3)\n",
      "proxyGive, = ax.plot([width.min(),width.min()],[ratio.min(),ratio.min()],[bot,bot],'g-',alpha=0.3)\n",
      "\n",
      "# Plot the calculated surface fit\n",
      "ax.plot_surface(xMesh2,yMesh2,zMesh2,alpha=0.3,rstride=4,cstride=4)\n",
      "    \n",
      "# Plot the measured data\n",
      "sc = ax.scatter(width,ratio,factor)\n",
      "\n",
      "# Define axis labels\n",
      "ax.set_xlabel('Width')\n",
      "ax.set_ylabel('Ratio')\n",
      "ax.set_zlabel('Factor')\n",
      "\n",
      "# Calculate the minimum ratio axis draw\n",
      "right = ratio.min()-0.01*ratio.ptp()\n",
      "\n",
      "# Enforce the ratio axis limits\n",
      "ax.set_ylim(right,1)\n",
      "\n",
      "# Define title\n",
      "ax.set_title('Fit displayed against width and aspect ratio')\n",
      "\n",
      "# Enforce the z axis limits\n",
      "ax.set_zlim(bot,top)\n",
      "\n",
      "# Adjust the viewing angle of the figure to that requested in `parameters.csv`\n",
      "ax.view_init(elev=parameters['figureElev'], azim=parameters['figureAzim'])\n",
      "\n",
      "# Draw the legend using the undrawn lines as proxys for the threshold contours\n",
      "legend([proxyGap,proxyGive],['Gap threshold', 'Give threshold'],loc=7,prop={'size':8})"
     ],
     "language": "python",
     "metadata": {},
     "outputs": []
    },
    {
     "cell_type": "markdown",
     "metadata": {},
     "source": [
      "[Back to top](#Electron-cutout-factor-model-report)"
     ]
    },
    {
     "cell_type": "heading",
     "level": 3,
     "metadata": {},
     "source": [
      "Valid region definitions"
     ]
    },
    {
     "cell_type": "markdown",
     "metadata": {},
     "source": [
      "Figures of the valid regions that are used to limit the spline fit."
     ]
    },
    {
     "cell_type": "heading",
     "level": 4,
     "metadata": {},
     "source": [
      "Angle gap"
     ]
    },
    {
     "cell_type": "code",
     "collapsed": false,
     "input": [
      "# Create a figure object\n",
      "fig = plt.figure()\n",
      "\n",
      "# Create axis object\n",
      "ax = fig.add_subplot(111)\n",
      "\n",
      "# Draw the filled in colour contour of the gap mesh calculated prior\n",
      "cf = ax.contourf(xMesh2,yMesh2,gapMesh2,60)\n",
      "\n",
      "# Draw a colourbar using the colour fill contour\n",
      "colorbar(cf, label='Angle gap')\n",
      "\n",
      "# Draw a normal contour in order better define the colour edge\n",
      "ax.contour(xMesh2,yMesh2,gapMesh2,60)\n",
      "\n",
      "# Draw a black contour at the position of the parameter threshold\n",
      "ax.contour(xMesh2,yMesh2,gapMesh2,levels=[parameters['gapThreshold']],colors='k')\n",
      "\n",
      "# Plot the positions of the measured data\n",
      "ax.plot(width,ratio,'k.')\n",
      "\n",
      "# Define axis labels\n",
      "ax.set_xlabel('Width')\n",
      "ax.set_ylabel('Ratio')\n",
      "\n",
      "# Enforce ratios upper limit of 1\n",
      "ax.set_ylim(top = 1)\n",
      "\n",
      "# Define title\n",
      "ax.set_title('Contour plot of the angle gap')"
     ],
     "language": "python",
     "metadata": {},
     "outputs": []
    },
    {
     "cell_type": "markdown",
     "metadata": {},
     "source": [
      "[Back to top](#Electron-cutout-factor-model-report)"
     ]
    },
    {
     "cell_type": "heading",
     "level": 4,
     "metadata": {},
     "source": [
      "Fit give"
     ]
    },
    {
     "cell_type": "markdown",
     "metadata": {},
     "source": [
      "The fit give contour plot given here is especially helpful to work out where best to measure extra cutout factors. New data in regions of high give will help to increase the valid region."
     ]
    },
    {
     "cell_type": "code",
     "collapsed": false,
     "input": [
      "# Create a figure object\n",
      "fig = plt.figure()\n",
      "\n",
      "# Create axis object\n",
      "ax = fig.add_subplot(111)\n",
      "\n",
      "# Draw the filled in colour contour of the give mesh calculated prior\n",
      "cf = ax.contourf(xMesh2,yMesh2,giveMesh2,60)\n",
      "\n",
      "# Draw a colourbar using the colour fill contour\n",
      "colorbar(cf, label='Fit give')\n",
      "\n",
      "# Draw a normal contour in order better define the colour edge\n",
      "ax.contour(xMesh2,yMesh2,giveMesh2,60)\n",
      "\n",
      "# Draw a black contour at the position of the parameter threshold\n",
      "ax.contour(xMesh2,yMesh2,giveMesh2,levels=[parameters['giveThreshold']],colors='k')\n",
      "\n",
      "# Plot the positions of the measured data\n",
      "ax.plot(width,ratio,'k.')\n",
      "\n",
      "# Define axis labels\n",
      "ax.set_xlabel('Width')\n",
      "ax.set_ylabel('Ratio')\n",
      "\n",
      "# Enforce ratios upper limit of 1\n",
      "ax.set_ylim(top = 1)\n",
      "\n",
      "# Define title\n",
      "ax.set_title('Contour plot of the fit give')"
     ],
     "language": "python",
     "metadata": {},
     "outputs": []
    },
    {
     "cell_type": "markdown",
     "metadata": {},
     "source": [
      "[Back to top](#Electron-cutout-factor-model-report)"
     ]
    },
    {
     "cell_type": "heading",
     "level": 3,
     "metadata": {},
     "source": [
      "Residuals"
     ]
    },
    {
     "cell_type": "markdown",
     "metadata": {},
     "source": [
      "Various representations of the differences between the spline fit and the measured cutout factors."
     ]
    },
    {
     "cell_type": "heading",
     "level": 4,
     "metadata": {},
     "source": [
      "Residuals standard deviation"
     ]
    },
    {
     "cell_type": "code",
     "collapsed": false,
     "input": [
      "# Calculate the predicted factor for each of the measured points\n",
      "fitFactors = splineFit.ev(width,log2(ratio))\n",
      "\n",
      "# Define residuals as the difference between the measured value and the fit value\n",
      "residuals = fitFactors - factor\n",
      "\n",
      "# Output the standard deviation of these residuals\n",
      "std(residuals)"
     ],
     "language": "python",
     "metadata": {},
     "outputs": []
    },
    {
     "cell_type": "markdown",
     "metadata": {},
     "source": [
      "[Back to top](#Electron-cutout-factor-model-report)"
     ]
    },
    {
     "cell_type": "heading",
     "level": 4,
     "metadata": {},
     "source": [
      "Residuals histogram"
     ]
    },
    {
     "cell_type": "code",
     "collapsed": false,
     "input": [
      "# Create a figure object\n",
      "fig = plt.figure()\n",
      "\n",
      "# Create axis object\n",
      "ax = fig.add_subplot(111)\n",
      "\n",
      "# Create a histogram of the residuals\n",
      "n, bins, patches = hist(residuals)\n",
      "\n",
      "# Change the colour of the histogram to green\n",
      "setp(patches, 'facecolor', 'g', 'alpha', 0.5)\n",
      "\n",
      "# Define axis labels\n",
      "ax.set_xlabel('Residuals')\n",
      "ax.set_ylabel('Frequency')\n",
      "\n",
      "# Define title\n",
      "ax.set_title('Histogram of residuals')"
     ],
     "language": "python",
     "metadata": {},
     "outputs": []
    },
    {
     "cell_type": "markdown",
     "metadata": {},
     "source": [
      "[Back to top](#Electron-cutout-factor-model-report)"
     ]
    },
    {
     "cell_type": "heading",
     "level": 4,
     "metadata": {},
     "source": [
      "Residuals scatter plot"
     ]
    },
    {
     "cell_type": "code",
     "collapsed": false,
     "input": [
      "# Create a figure object\n",
      "fig = plt.figure()\n",
      "\n",
      "# Create a 3D axis\n",
      "ax = fig.add_subplot(111, projection='3d')\n",
      "\n",
      "# Plot the calculated surface fit\n",
      "ax.plot_surface(xMesh2,yMesh2,zMesh2,alpha=0.3,rstride=4,cstride=4)\n",
      "\n",
      "# Plot a scatter plot of the measured data with the colour defined\n",
      "# by that data points absolute residual\n",
      "sc = ax.scatter(width,ratio,factor,c=abs(residuals))\n",
      "\n",
      "# Display a colour bar of the residual colours\n",
      "fig.colorbar(sc, label='Absolute residuals')\n",
      "\n",
      "# Define axis labels\n",
      "ax.set_xlabel('Width')\n",
      "ax.set_ylabel('Ratio')\n",
      "ax.set_zlabel('Factor')\n",
      "\n",
      "# Enforce the ratio axis limits\n",
      "ax.set_ylim(right,1)\n",
      "\n",
      "# Enforce the z axis limits\n",
      "ax.set_zlim(bot,top)\n",
      "\n",
      "# Define title\n",
      "ax.set_title('Data coloured according to absolute residuals')\n",
      "\n",
      "# Draw the legend using the undrawn lines as proxys for the threshold contours\n",
      "ax.view_init(elev=parameters['figureElev'], azim=parameters['figureAzim'])"
     ],
     "language": "python",
     "metadata": {},
     "outputs": []
    },
    {
     "cell_type": "markdown",
     "metadata": {},
     "source": [
      "[Back to top](#Electron-cutout-factor-model-report)"
     ]
    },
    {
     "cell_type": "heading",
     "level": 4,
     "metadata": {},
     "source": [
      "Residuals table"
     ]
    },
    {
     "cell_type": "code",
     "collapsed": false,
     "input": [
      "# Create a pandas table using the width, length, factor, fit factor, residuals, standard deviation \n",
      "# variables for the purpose of display\n",
      "df = pd.DataFrame(transpose([width, length, factor, fitFactors, residuals, residuals/std(residuals)]))\n",
      "\n",
      "# Label the columns\n",
      "df.columns = ['Width', 'Length', 'Measured Factor', 'Fit Factor', 'Residual', 'Standard deviations']\n",
      "\n",
      "# Display the table in html format\n",
      "display_html(df)"
     ],
     "language": "python",
     "metadata": {},
     "outputs": []
    },
    {
     "cell_type": "markdown",
     "metadata": {},
     "source": [
      "[Back to top](#Electron-cutout-factor-model-report)"
     ]
    },
    {
     "cell_type": "heading",
     "level": 3,
     "metadata": {},
     "source": [
      "Prediction uncertainty"
     ]
    },
    {
     "cell_type": "markdown",
     "metadata": {},
     "source": [
      " Calculation of the uncertainty of prediction. It is achieved by remodelling the spline fit with individual data points removed. The fits ability to predict measured data points, within its valid region, when the fit does not have the information for that point is used to estimate the uncertainty of prediction."
     ]
    },
    {
     "cell_type": "heading",
     "level": 4,
     "metadata": {},
     "source": [
      "Remove data and recalculate fit"
     ]
    },
    {
     "cell_type": "code",
     "collapsed": false,
     "input": [
      "# Initialise the predicted factor variable for use in the for loop\n",
      "predictedFactor = zeros(shape(width))\n",
      "\n",
      "# Initialise the prediction angle gap variable for use in the for loop\n",
      "predictionAngleGap = zeros(shape(width))\n",
      "\n",
      "# Initialise the prediction fit give variable for use in the for loop\n",
      "predictionFitGive = zeros(shape(width))\n",
      "\n",
      "# Begin a for loop for each measured cut out factor\n",
      "for i in range(len(width)):\n",
      "    \n",
      "    # Define the x value for fitting of the point in question\n",
      "    x = width[i]\n",
      "    \n",
      "    # Define the y value for fitting of the point in question\n",
      "    y = log2(width[i]/length[i])\n",
      "    \n",
      "    # Create adjusted data sets that are missing the point in question\n",
      "    adjWidth = np.delete(width,i)\n",
      "    adjLength = np.delete(length,i)\n",
      "    adjFactor = np.delete(factor,i)\n",
      "    \n",
      "    # Set up the data in a mirrored fashion in preparation for the spline fit\n",
      "    adjWidthMirrored = np.append(adjWidth,adjWidth)\n",
      "    adjRatioLogMirrored = np.log2(np.append(adjWidth/adjLength,adjLength/adjWidth))\n",
      "    adjFactorMirrored = np.append(adjFactor,adjFactor)\n",
      "    \n",
      "    # Create the adjusted spline fit using the adjusted data sets\n",
      "    adjSplineFit = SmoothBivariateSpline(adjWidthMirrored,adjRatioLogMirrored,adjFactorMirrored)\n",
      "    \n",
      "    # Evaluate and store the cutout factor of the point in question using the adjust spline fit\n",
      "    predictedFactor[i] = adjSplineFit.ev(x,y)\n",
      "    \n",
      "    # Evaluate and store the angle gap of the point in question using the adjusted data\n",
      "    predictionAngleGap[i] = angle_gap(x,y,adjWidthMirrored,adjRatioLogMirrored,1,2)\n",
      "    \n",
      "    # Evaluate and store the fit give of the point in question using the adjusted data\n",
      "    predictionFitGive[i] = fit_give(x,y,adjWidthMirrored,adjRatioLogMirrored,adjFactorMirrored)"
     ],
     "language": "python",
     "metadata": {},
     "outputs": []
    },
    {
     "cell_type": "markdown",
     "metadata": {},
     "source": [
      "[Back to top](#Electron-cutout-factor-model-report)"
     ]
    },
    {
     "cell_type": "heading",
     "level": 4,
     "metadata": {},
     "source": [
      "User defined thresholds"
     ]
    },
    {
     "cell_type": "markdown",
     "metadata": {},
     "source": [
      "In order for a data point to be able to be predicted it needs to be within these user defined tolerances:"
     ]
    },
    {
     "cell_type": "code",
     "collapsed": false,
     "input": [
      "# Create a pandas table using the threshold variables for the purpose of display\n",
      "df = pd.DataFrame([parameters['gapThreshold'], parameters['giveThreshold']])\n",
      "\n",
      "# Label the rows\n",
      "df.index = ['Gap', 'Give']\n",
      "\n",
      "# Label the column\n",
      "df.columns = ['Threshold']\n",
      "\n",
      "# Display the table in html format\n",
      "display_html(df)"
     ],
     "language": "python",
     "metadata": {},
     "outputs": []
    },
    {
     "cell_type": "markdown",
     "metadata": {},
     "source": [
      "[Back to top](#Electron-cutout-factor-model-report)"
     ]
    },
    {
     "cell_type": "heading",
     "level": 4,
     "metadata": {},
     "source": [
      "Prediction differences table"
     ]
    },
    {
     "cell_type": "markdown",
     "metadata": {},
     "source": [
      "The prediction of each of the measured data points is given below. Those with an angle gap or fit give higher than the tolerances given above would normally give a result of \"nan\"."
     ]
    },
    {
     "cell_type": "code",
     "collapsed": false,
     "input": [
      "# Calculate the differences between the measured factors and the predicted factors\n",
      "difference = factor - predictedFactor\n",
      "\n",
      "# Find the predicted factors that are within the parameter thresholds for their individual fits\n",
      "withinThresholds = ((predictionAngleGap<parameters['gapThreshold']) & \n",
      "                    (predictionFitGive<parameters['giveThreshold'])\n",
      "                    )"
     ],
     "language": "python",
     "metadata": {},
     "outputs": []
    },
    {
     "cell_type": "code",
     "collapsed": false,
     "input": [
      "# Create a pandas table for the purpose of display\n",
      "df = pd.DataFrame(transpose([width, length, factor, predictedFactor, difference,\n",
      "                             predictionAngleGap, predictionFitGive, withinThresholds]))\n",
      "\n",
      "# Label the columns\n",
      "df.columns = ['Width', 'Length', 'Measured Factor', 'Predicted Factor', 'Difference',\n",
      "              'Angle Gap', 'Fit Give', 'Within thresholds']\n",
      "\n",
      "# Display the table in html format\n",
      "display_html(df)"
     ],
     "language": "python",
     "metadata": {},
     "outputs": []
    },
    {
     "cell_type": "markdown",
     "metadata": {},
     "source": [
      "[Back to top](#Electron-cutout-factor-model-report)"
     ]
    },
    {
     "cell_type": "heading",
     "level": 4,
     "metadata": {},
     "source": [
      "Standard deviation of valid prediction differences"
     ]
    },
    {
     "cell_type": "markdown",
     "metadata": {},
     "source": [
      "The standard deviation of the prediction differences for valid data points is given as the following:"
     ]
    },
    {
     "cell_type": "code",
     "collapsed": false,
     "input": [
      "# Print the standard deviation of the valid predicition differences\n",
      "print(\"There are\", sum(withinThresholds), \"points within give and gap thresholds.\"+\n",
      "      \"\\nThe standard deviation of the prediction differences for these is\", std(difference[withinThresholds]))"
     ],
     "language": "python",
     "metadata": {},
     "outputs": []
    },
    {
     "cell_type": "markdown",
     "metadata": {},
     "source": [
      "[Back to top](#Electron-cutout-factor-model-report)"
     ]
    },
    {
     "cell_type": "heading",
     "level": 4,
     "metadata": {},
     "source": [
      "Histogram of valid prediction differences"
     ]
    },
    {
     "cell_type": "code",
     "collapsed": false,
     "input": [
      "# Create a figure object\n",
      "fig = plt.figure()\n",
      "\n",
      "# Create axis object\n",
      "ax = fig.add_subplot(111)\n",
      "\n",
      "# Create a histogram of the valid prediction differences\n",
      "n, bins, patches = hist(difference[withinThresholds])\n",
      "\n",
      "# Change the colour of the histogram to green\n",
      "setp(patches, 'facecolor', 'g', 'alpha', 0.5)\n",
      "\n",
      "# Define axis labels\n",
      "ax.set_xlabel('Prediction differences')\n",
      "ax.set_ylabel('Frequency')\n",
      "\n",
      "# Define title\n",
      "ax.set_title('Histogram of prediction differences')"
     ],
     "language": "python",
     "metadata": {},
     "outputs": []
    },
    {
     "cell_type": "markdown",
     "metadata": {},
     "source": [
      "[Back to top](#Electron-cutout-factor-model-report)"
     ]
    },
    {
     "cell_type": "heading",
     "level": 2,
     "metadata": {},
     "source": [
      "Output data to files"
     ]
    },
    {
     "cell_type": "heading",
     "level": 3,
     "metadata": {},
     "source": [
      "Interpolation table"
     ]
    },
    {
     "cell_type": "markdown",
     "metadata": {},
     "source": [
      "Build and save an interpolation table of the spline fit according to the users specifications within `input/parameters.csv`. Interpolation table is saved to the model output directory as `interpolation-table.csv`."
     ]
    },
    {
     "cell_type": "heading",
     "level": 4,
     "metadata": {},
     "source": [
      "User defined grid size"
     ]
    },
    {
     "cell_type": "code",
     "collapsed": false,
     "input": [
      "# Create a pandas table for the purpose of display\n",
      "df = pd.DataFrame([parameters['widthInterpResolution'], parameters['ratioInterpResolution']])\n",
      "\n",
      "# Label the rows\n",
      "df.index = ['Width', 'Ratio']\n",
      "\n",
      "# Label the column\n",
      "df.columns = ['Resolutions']\n",
      "\n",
      "# Display the table in html format\n",
      "display_html(df)"
     ],
     "language": "python",
     "metadata": {},
     "outputs": []
    },
    {
     "cell_type": "markdown",
     "metadata": {},
     "source": [
      "[Back to top](#Electron-cutout-factor-model-report)"
     ]
    },
    {
     "cell_type": "heading",
     "level": 4,
     "metadata": {},
     "source": [
      "Creating the interpolation mesh"
     ]
    },
    {
     "cell_type": "code",
     "collapsed": false,
     "input": [
      "# ===========================\n",
      "#            IDEA\n",
      "#\n",
      "# This mesh can be more intelligently created. \n",
      "# Spread out the steps so that on average each column/row jump has similar cutout effect.\n",
      "# Could even make it so that the user input is instead, \"diff between rows and cols\". \n",
      "#  ^^ This way should work. Use iterative optimisation:\n",
      "#     maybe scipy.optimize.minimize of \n",
      "#     `mean((max(columnDiffs) - parameterDiff)**2) + mean((max(rowDiffs) - parameterDiff)**2)`\n",
      "# ===========================\n",
      "\n",
      "# Create vectors of values over the data domain. Each data point is rounded to 3 decimal places.\n",
      "# The number of data points is defined by the user in `input/parameters.csv`.\n",
      "# Domain used is width vs ratio.\n",
      "xVec3 = around(linspace(width.min(),width.max(),parameters['widthInterpResolution']),decimals = 3)\n",
      "yVec3 = around(linspace(ratio.min(),ratio.max(),parameters['ratioInterpResolution']),decimals = 3)\n",
      "\n",
      "# Create a mesh using the vectors created\n",
      "xMesh3, yMesh3 = meshgrid(xVec3, yVec3) \n",
      "\n",
      "# Using the angle_gap and fit_give functions defined within `threshold_functions.py` \n",
      "# to calculate the angle gap and fit give for each width and ratio mesh\n",
      "gapMesh3 = angle_gap(xMesh3,log2(yMesh3),widthMirrored,ratioLogMirrored,1,2)\n",
      "giveMesh3 = fit_give(xMesh3,log2(yMesh3),widthMirrored,ratioLogMirrored,factorMirrored)\n",
      "\n",
      "# Use the spline model to predict the cutout factor at each of the meshed postions\n",
      "zMesh3 = splineFit.ev(xMesh3, log2(yMesh3))\n",
      "\n",
      "# Find all the positions for which the spline model is above the user defined thresholds\n",
      "ref3 = (gapMesh3>parameters['gapThreshold']) | (giveMesh3>parameters['giveThreshold'])\n",
      "\n",
      "# Replace invalid predictions with NaN\n",
      "zMesh3[ref3] = nan"
     ],
     "language": "python",
     "metadata": {},
     "outputs": []
    },
    {
     "cell_type": "code",
     "collapsed": false,
     "input": [
      "# Create a pandas table for the purpose of display and saving\n",
      "# The data entries of the table are defined by the predicted cutouts in zMesh3\n",
      "interpDf = pd.DataFrame(zMesh3)\n",
      "\n",
      "# Label the columns with the width vector\n",
      "interpDf.columns = xVec3\n",
      "interpDf.columns.name = 'width'\n",
      "\n",
      "# Label the rows with the ratio vector\n",
      "interpDf.index = yVec3\n",
      "interpDf.index.name = 'ratio'\n",
      "\n",
      "# Display the table in html format\n",
      "display_html(interpDf)"
     ],
     "language": "python",
     "metadata": {},
     "outputs": []
    },
    {
     "cell_type": "markdown",
     "metadata": {},
     "source": [
      "[Back to top](#Electron-cutout-factor-model-report)"
     ]
    },
    {
     "cell_type": "heading",
     "level": 4,
     "metadata": {},
     "source": [
      "Save interpolation table to csv"
     ]
    },
    {
     "cell_type": "code",
     "collapsed": false,
     "input": [
      "# Define the save path\n",
      "interpolationTableFilepath = modelOutputDirectory+\"/interpolation-table.csv\"\n",
      "\n",
      "# Use pandas to output the table to `interpolation-table.csv`\n",
      "interpDf.to_csv(interpolationTableFilepath, index_label = 'ratio | width')"
     ],
     "language": "python",
     "metadata": {},
     "outputs": []
    },
    {
     "cell_type": "markdown",
     "metadata": {},
     "source": [
      "[Back to top](#Electron-cutout-factor-model-report)"
     ]
    },
    {
     "cell_type": "heading",
     "level": 3,
     "metadata": {},
     "source": [
      "Requested cutout factors"
     ]
    },
    {
     "cell_type": "markdown",
     "metadata": {},
     "source": [
      "Calculate and save the cutouts requested within the corresponding file found at `input/requested-cutouts/*.csv`. Program looks for a file with equivalent name to the loaded data file. The predicted cutout factors are saved to the model output directory as `predicted-cutouts.csv`."
     ]
    },
    {
     "cell_type": "heading",
     "level": 4,
     "metadata": {},
     "source": [
      "File used"
     ]
    },
    {
     "cell_type": "code",
     "collapsed": false,
     "input": [
      "# Define the location for which to look for the requested cutouts\n",
      "requestedCutoutFilepath = '../input/requested-cutouts/'+inputDataFilename+'.csv'\n",
      "\n",
      "# Let the user know whether or not the file has been found\n",
      "if os.path.isfile(requestedCutoutFilepath):\n",
      "    print(\"File found at '\"+requestedCutoutFilepath+\"'\")\n",
      "else:\n",
      "    print(\"No requested cutout file found for \"+inputDataFilename+\n",
      "          \"\\nLooked for '\"+requestedCutoutFilepath+\"'\")"
     ],
     "language": "python",
     "metadata": {},
     "outputs": []
    },
    {
     "cell_type": "markdown",
     "metadata": {},
     "source": [
      "[Back to top](#Electron-cutout-factor-model-report)"
     ]
    },
    {
     "cell_type": "heading",
     "level": 4,
     "metadata": {},
     "source": [
      "Loading the requested cutouts"
     ]
    },
    {
     "cell_type": "code",
     "collapsed": false,
     "input": [
      "# Test if the input file exists\n",
      "if os.path.isfile(requestedCutoutFilepath):\n",
      "    \n",
      "    # Load the input file using pandas\n",
      "    requestedCutouts = pd.read_csv(requestedCutoutFilepath)\n",
      "    \n",
      "    # Store the widths and lengths according to the column labels in the file\n",
      "    reqWidth = requestedCutouts['width'].values\n",
      "    reqLength = requestedCutouts['length'].values\n",
      "    \n",
      "    # Display the table in html format\n",
      "    display_html(requestedCutouts)"
     ],
     "language": "python",
     "metadata": {},
     "outputs": []
    },
    {
     "cell_type": "markdown",
     "metadata": {},
     "source": [
      "[Back to top](#Electron-cutout-factor-model-report)"
     ]
    },
    {
     "cell_type": "heading",
     "level": 4,
     "metadata": {},
     "source": [
      "Calculating the requested factors"
     ]
    },
    {
     "cell_type": "code",
     "collapsed": false,
     "input": [
      "# Test if the input file exists\n",
      "if os.path.isfile(requestedCutoutFilepath):\n",
      "    \n",
      "    \n",
      "    # Define the x values for fitting\n",
      "    x = reqWidth\n",
      "    \n",
      "    # Define the y values for fitting\n",
      "    y = log2(reqWidth/reqLength)\n",
      "    \n",
      "    # Evaluate the predicted cutouts using the spline fit\n",
      "    predictedCutouts = splineFit.ev(x,y)\n",
      "    \n",
      "    # Evaluate the give and gap parameters\n",
      "    predictionGap = angle_gap(x,y,widthMirrored,ratioLogMirrored,1,2)\n",
      "    predictionGive = fit_give(x,y,widthMirrored,ratioLogMirrored,factorMirrored)\n",
      "    \n",
      "    # Test if the requested cutouts go above the user defined thresholds\n",
      "    ref4 = (predictionGap>parameters['gapThreshold']) | (predictionGive>parameters['giveThreshold'])\n",
      "    \n",
      "    # Replace the cutout prediction with NaN if the threshold is exceeded\n",
      "    predictedCutouts[ref4] = nan\n",
      "    \n",
      "    # Create a pandas table for the purpose of display and saving\n",
      "    predictedDf = pd.DataFrame(transpose([reqWidth, reqLength, predictionGap, predictionGive, predictedCutouts]))\n",
      "   \n",
      "    # Label the columns\n",
      "    predictedDf.columns = ['width', 'length', 'gap', 'give','factor']\n",
      "    \n",
      "    # Display the table in html format\n",
      "    display_html(predictedDf)"
     ],
     "language": "python",
     "metadata": {},
     "outputs": []
    },
    {
     "cell_type": "markdown",
     "metadata": {},
     "source": [
      "[Back to top](#Electron-cutout-factor-model-report)"
     ]
    },
    {
     "cell_type": "heading",
     "level": 4,
     "metadata": {},
     "source": [
      "Save requested factor outputs to csv"
     ]
    },
    {
     "cell_type": "code",
     "collapsed": false,
     "input": [
      "# Test if the input file exists\n",
      "if os.path.isfile(requestedCutoutFilepath):\n",
      "    \n",
      "    # Define the output filepath\n",
      "    predictedCutoutsFilepath = modelOutputDirectory+\"/predicted-cutouts.csv\"\n",
      "    \n",
      "    # Use pandas to save the predicted cutouts to `predicted-cutouts.csv`\n",
      "    predictedDf.to_csv(path_or_buf = predictedCutoutsFilepath, index=False)"
     ],
     "language": "python",
     "metadata": {},
     "outputs": []
    },
    {
     "cell_type": "markdown",
     "metadata": {},
     "source": [
      "[Back to top](#Electron-cutout-factor-model-report)"
     ]
    }
   ],
   "metadata": {}
  }
 ]
}