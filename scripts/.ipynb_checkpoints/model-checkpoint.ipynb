{
 "metadata": {
  "name": "",
  "signature": "sha256:860018f5fa56a9b3b248a47ffd18a9cae7c2c300a73b0e2c59e68c2804f63058"
 },
 "nbformat": 3,
 "nbformat_minor": 0,
 "worksheets": [
  {
   "cells": [
    {
     "cell_type": "heading",
     "level": 1,
     "metadata": {},
     "source": [
      "Electron cutout factor report"
     ]
    },
    {
     "cell_type": "markdown",
     "metadata": {},
     "source": [
      "The following is a printout of the code run in order to produce the cut-out predictions and interpolation tables. Interspersed throughout the code is outputs for given cells. A "
     ]
    },
    {
     "cell_type": "heading",
     "level": 2,
     "metadata": {},
     "source": [
      "Required packages"
     ]
    },
    {
     "cell_type": "heading",
     "level": 3,
     "metadata": {},
     "source": [
      "Loading packages"
     ]
    },
    {
     "cell_type": "code",
     "collapsed": false,
     "input": [
      "# Imports numpy and matplotlib\n",
      "# Libraries similar to MATLAB / Octave\n",
      "%pylab inline\n",
      "\n",
      "# For naming files\n",
      "import datetime\n",
      "\n",
      "# For directory and file control\n",
      "import os\n",
      "\n",
      "# To find list of csv files\n",
      "from glob import glob\n",
      "\n",
      "# To read csv files\n",
      "import csv\n",
      "\n",
      "# For the displaying, loading, and saving of tables\n",
      "import pandas as pd\n",
      "\n",
      "# To display panda tables as html\n",
      "from IPython.core.display import display_html\n",
      "\n",
      "# The interpolation method employed by this model\n",
      "from scipy.interpolate import SmoothBivariateSpline\n",
      "\n",
      "# Enables 3D plots within matplotlib\n",
      "from mpl_toolkits.mplot3d import Axes3D\n",
      "\n",
      "# Imports the give and gap threshold functions contained within threshold_functions.py\n",
      "from threshold_functions import *"
     ],
     "language": "python",
     "metadata": {},
     "outputs": []
    },
    {
     "cell_type": "heading",
     "level": 3,
     "metadata": {},
     "source": [
      "Package options"
     ]
    },
    {
     "cell_type": "code",
     "collapsed": false,
     "input": [
      "# Makes the panda tables display no more than 12 columns\n",
      "# The html output bugs out without this\n",
      "pd.options.display.max_columns = 12\n",
      "\n",
      "# Makes all figures have a higher resolution\n",
      "# Figures were too small without this\n",
      "pylab.rcParams['savefig.dpi'] = 150"
     ],
     "language": "python",
     "metadata": {},
     "outputs": []
    },
    {
     "cell_type": "heading",
     "level": 2,
     "metadata": {},
     "source": [
      "User parameters"
     ]
    },
    {
     "cell_type": "heading",
     "level": 3,
     "metadata": {},
     "source": [
      "Load"
     ]
    },
    {
     "cell_type": "code",
     "collapsed": false,
     "input": [
      "# The file path of the paramters.csv file\n",
      "parameterFilepath = \"../input/parameters.csv\"\n",
      "\n",
      "# Loads the parameters.csv file\n",
      "reader = csv.reader(open(parameterFilepath),delimiter=',')\n",
      "\n",
      "# Create a dictionary where the keys are the first column of the csv \n",
      "# and the values are the corresponding second column\n",
      "parameters = dict(([x[0],float(x[1])] for x in reader))"
     ],
     "language": "python",
     "metadata": {},
     "outputs": []
    },
    {
     "cell_type": "heading",
     "level": 3,
     "metadata": {},
     "source": [
      "Display"
     ]
    },
    {
     "cell_type": "code",
     "collapsed": false,
     "input": [
      "# Outputs the contents of the dictionary `parameters`\n",
      "parameters"
     ],
     "language": "python",
     "metadata": {},
     "outputs": []
    },
    {
     "cell_type": "heading",
     "level": 2,
     "metadata": {},
     "source": [
      "Input output paths and directories"
     ]
    },
    {
     "cell_type": "heading",
     "level": 3,
     "metadata": {},
     "source": [
      "Input"
     ]
    },
    {
     "cell_type": "code",
     "collapsed": false,
     "input": [
      "# If this notebook was produced as expected using the `runmodel.py` script\n",
      "# then the input filepath is stored in the processes environmental variable\n",
      "inputDataFilepath = os.environ.get('INPUTDATAFILEPATH', -1)\n",
      "\n",
      "# If this notebook was not produced in the expected manner a dummy filepath is used\n",
      "# This will print a warning\n",
      "if inputDataFilepath == -1:\n",
      "    inputDataFilelist = glob(\"../input/data/*.csv\")\n",
      "    inputDataFilepath = inputDataFilelist[0]\n",
      "    \n",
      "    print(\"Warning: input filepath was not retrievable\")\n",
      "\n",
      "# Store the base filename that has been used to run this script\n",
      "inputDataFilename = os.path.basename(inputDataFilepath)[0:-4]"
     ],
     "language": "python",
     "metadata": {},
     "outputs": []
    },
    {
     "cell_type": "code",
     "collapsed": false,
     "input": [
      "# Display the input file path\n",
      "inputDataFilepath"
     ],
     "language": "python",
     "metadata": {},
     "outputs": []
    },
    {
     "cell_type": "heading",
     "level": 3,
     "metadata": {},
     "source": [
      "Output"
     ]
    },
    {
     "cell_type": "code",
     "collapsed": false,
     "input": [
      "# If this notebook was produced as expected using the `runmodel.py` script\n",
      "# then the model output directory is stored in the processes environmental variable\n",
      "modelOutputDirectory = os.environ.get('MODELOUTPUTDIRECTORY', -1)\n",
      "\n",
      "# If this notebook was not produced in the expected manner a dummy directory is used\n",
      "# This will print a warning\n",
      "if modelOutputDirectory == -1:\n",
      "    stamp = datetime.datetime.now().strftime(\"%Y%m%d_%H%M%S\")\n",
      "    inputDataFilename = os.path.basename(inputDataFilepath)[0:-4]\n",
      "    modelOutputDirectory = \"../output/\"+stamp+\"/\"+inputDataFilename\n",
      "    \n",
      "    print(\"Warning: model output directory was not retrievable\")\n",
      "\n",
      "# Creates the required directory if it does not already exist\n",
      "if not os.path.exists(modelOutputDirectory):\n",
      "    os.makedirs(modelOutputDirectory)"
     ],
     "language": "python",
     "metadata": {},
     "outputs": []
    },
    {
     "cell_type": "code",
     "collapsed": false,
     "input": [
      "# Display the model output directory\n",
      "modelOutputDirectory"
     ],
     "language": "python",
     "metadata": {},
     "outputs": []
    },
    {
     "cell_type": "heading",
     "level": 2,
     "metadata": {},
     "source": [
      "The provided cutout data"
     ]
    },
    {
     "cell_type": "heading",
     "level": 3,
     "metadata": {},
     "source": [
      "Load data"
     ]
    },
    {
     "cell_type": "code",
     "collapsed": false,
     "input": [
      "# Use pandas to load the csv file\n",
      "cutoutData = pd.read_csv(inputDataFilepath)\n",
      "\n",
      "# Define width, length, and factor as the csv columns\n",
      "# which had that corresponding header\n",
      "width = cutoutData['width'].values\n",
      "length = cutoutData['length'].values\n",
      "factor = cutoutData['factor'].values\n",
      "\n",
      "# Swap width and length values if order was mistaken\n",
      "swap = width > length\n",
      "\n",
      "store = width[swap]\n",
      "width[swap] = length[swap]\n",
      "length[swap] = store\n",
      "\n",
      "# Define the cutout aspect ratio\n",
      "ratio = width/length"
     ],
     "language": "python",
     "metadata": {},
     "outputs": []
    },
    {
     "cell_type": "heading",
     "level": 3,
     "metadata": {},
     "source": [
      "Table of the received data"
     ]
    },
    {
     "cell_type": "code",
     "collapsed": false,
     "input": [
      "# Create a pandas table using the width, length, and factor variables\n",
      "# for the purpose of display\n",
      "df = pd.DataFrame(transpose([width, length, factor]))\n",
      "\n",
      "# Label the columns\n",
      "df.columns = ['width', 'length', 'factor']\n",
      "\n",
      "# Display the table in html format\n",
      "display_html(df)"
     ],
     "language": "python",
     "metadata": {},
     "outputs": []
    },
    {
     "cell_type": "heading",
     "level": 3,
     "metadata": {},
     "source": [
      "Figure of the received data"
     ]
    },
    {
     "cell_type": "code",
     "collapsed": false,
     "input": [
      "# Create a figure object\n",
      "fig = plt.figure()\n",
      "\n",
      "# Add a 3D axis\n",
      "ax = fig.add_subplot(111, projection='3d')\n",
      "\n",
      "# Calculate the z axis limits\n",
      "bot = np.amin(factor) - 0.1 * np.ptp(factor)\n",
      "top = np.amax(factor) + 0.1 * np.ptp(factor)\n",
      "\n",
      "# Create a red scatter plot on the bottom plane of the figure\n",
      "# for visual reference\n",
      "ax.scatter(width,ratio,bot,c='r',s=5)\n",
      "\n",
      "# Draw black lines connecting each data point and the bottom plane\n",
      "# for visual reference\n",
      "for i in range(len(factor)):\n",
      "    ax.plot([width[i],width[i]],[ratio[i],ratio[i]],[factor[i],bot],'k',alpha=0.5)\n",
      "\n",
      "# Scatter plot the 3D data that has been provided\n",
      "ax.scatter(width,ratio,factor,c='b')\n",
      "\n",
      "# Define the figure labels\n",
      "ax.set_xlabel('Width')\n",
      "ax.set_ylabel('Ratio')\n",
      "ax.set_zlabel('Factor')\n",
      "\n",
      "# Define the figure title\n",
      "ax.set_title('Provided data')\n",
      "\n",
      "# Enforce the z axis limits previously calculated\n",
      "ax.set_zlim(bot,top)\n",
      "\n",
      "# Adjust the viewing angle of the figure to that requested in `parameters.csv`\n",
      "ax.view_init(elev=parameters['figureElev'], azim=parameters['figureAzim'])"
     ],
     "language": "python",
     "metadata": {},
     "outputs": []
    },
    {
     "cell_type": "heading",
     "level": 2,
     "metadata": {},
     "source": [
      "Spline fitting"
     ]
    },
    {
     "cell_type": "markdown",
     "metadata": {},
     "source": [
      "Mirror the data for spline fitting. This is done so that the full information available is used for the spline fitting around shapes with aspect ratios close to unity."
     ]
    },
    {
     "cell_type": "code",
     "collapsed": false,
     "input": [
      "# Duplicate the width data\n",
      "widthMirrored = np.append(width,width)\n",
      "\n",
      "# Mirror the ratio data and take the base 2 log\n",
      "ratioLogMirrored = np.log2(np.append(width/length,length/width))\n",
      "\n",
      "# Duplicate the factor data\n",
      "factorMirrored = np.append(factor,factor)"
     ],
     "language": "python",
     "metadata": {},
     "outputs": []
    },
    {
     "cell_type": "markdown",
     "metadata": {},
     "source": [
      "Impliment the spline fit"
     ]
    },
    {
     "cell_type": "code",
     "collapsed": false,
     "input": [
      "# Compute the smoothed bivariate spline using the mirrored data\n",
      "splineFit = SmoothBivariateSpline(widthMirrored,ratioLogMirrored,factorMirrored)"
     ],
     "language": "python",
     "metadata": {},
     "outputs": []
    },
    {
     "cell_type": "heading",
     "level": 3,
     "metadata": {},
     "source": [
      "Plotting the spline fit in its natural form"
     ]
    },
    {
     "cell_type": "markdown",
     "metadata": {},
     "source": [
      "Explanation"
     ]
    },
    {
     "cell_type": "code",
     "collapsed": false,
     "input": [
      "xVec1 = linspace(widthMirrored.min(),widthMirrored.max(),100)\n",
      "yVec1 = linspace(ratioLogMirrored.min(),ratioLogMirrored.max(),100)\n",
      "\n",
      "xMesh1, yMesh1 = meshgrid(xVec1, yVec1)\n",
      "gapMesh1 = angle_gap(xMesh1,yMesh1,widthMirrored,ratioLogMirrored,1,2)\n",
      "giveMesh1 = fit_give(xMesh1,yMesh1,widthMirrored,ratioLogMirrored,factorMirrored)\n",
      "\n",
      "zMesh1 = splineFit.ev(xMesh1, yMesh1)\n",
      "\n",
      "ref1 = (gapMesh1>parameters['gapThreshold']) | (giveMesh1>parameters['giveThreshold'])\n",
      "zMesh1[ref1] = nan"
     ],
     "language": "python",
     "metadata": {},
     "outputs": []
    },
    {
     "cell_type": "code",
     "collapsed": false,
     "input": [
      "fig = plt.figure()\n",
      "ax = fig.add_subplot(111, projection='3d')\n",
      "\n",
      "\n",
      "ax.contour(xMesh1,yMesh1,gapMesh1, offset=bot, levels=[parameters['gapThreshold']], colors='r',alpha=0.3)\n",
      "ax.contour(xMesh1,yMesh1,giveMesh1, offset=bot, levels=[parameters['giveThreshold']], colors='g',alpha=0.3)\n",
      "\n",
      "proxyGap, = ax.plot([width.min(),width.min()],[ratioLogMirrored.min(),ratioLogMirrored.min()],[bot,bot],'r-',alpha=0.3)\n",
      "proxyGive, = ax.plot([width.min(),width.min()],[ratioLogMirrored.min(),ratioLogMirrored.min()],[bot,bot],'g-',alpha=0.3)\n",
      "\n",
      "\n",
      "ax.plot_surface(xMesh1,yMesh1,zMesh1,alpha=0.3,rstride=4,cstride=4)\n",
      "    \n",
      "ax.scatter(widthMirrored,ratioLogMirrored,factorMirrored,'b')\n",
      "ax.set_xlabel('Width')\n",
      "ax.set_ylabel('log2(ratio)')\n",
      "ax.set_zlabel('Factor')\n",
      "\n",
      "ax.set_title('Spline fit of mirrored data against width and log2(ratio)')\n",
      "\n",
      "ax.view_init(elev=parameters['figureElev'], azim=parameters['figureAzim'])\n",
      "\n",
      "ax.set_zlim(bot,top)\n",
      "\n",
      "legend([proxyGap,proxyGive],['Gap threshold', 'Give threshold'],loc=7,prop={'size':8})"
     ],
     "language": "python",
     "metadata": {},
     "outputs": []
    },
    {
     "cell_type": "heading",
     "level": 3,
     "metadata": {},
     "source": [
      "Plotting the spline fit in the useful form"
     ]
    },
    {
     "cell_type": "markdown",
     "metadata": {},
     "source": [
      "Explaination"
     ]
    },
    {
     "cell_type": "code",
     "collapsed": false,
     "input": [
      "xVec2 = linspace(width.min(),width.max(),100)\n",
      "yVec2 = linspace(ratio.min(),ratio.max(),100)\n",
      "\n",
      "xMesh2, yMesh2 = meshgrid(xVec2, yVec2)\n",
      "gapMesh2 = angle_gap(xMesh2,log2(yMesh2),widthMirrored,ratioLogMirrored,1,2)\n",
      "giveMesh2 = fit_give(xMesh2,log2(yMesh2),widthMirrored,ratioLogMirrored,factorMirrored)\n",
      "\n",
      "zMesh2 = splineFit.ev(xMesh2, log2(yMesh2))\n",
      "\n",
      "ref2 = (gapMesh2>parameters['gapThreshold']) | (giveMesh2>parameters['giveThreshold'])\n",
      "zMesh2[ref2] = nan"
     ],
     "language": "python",
     "metadata": {},
     "outputs": []
    },
    {
     "cell_type": "code",
     "collapsed": false,
     "input": [
      "fig = plt.figure()\n",
      "ax = fig.add_subplot(111, projection='3d')\n",
      "\n",
      "ax.contour(xMesh2,yMesh2,gapMesh2, offset=bot, levels=[parameters['gapThreshold']], colors='r',alpha=0.3)\n",
      "ax.contour(xMesh2,yMesh2,giveMesh2, offset=bot, levels=[parameters['giveThreshold']], colors='g',alpha=0.3)\n",
      "\n",
      "proxyGap, = ax.plot([width.min(),width.min()],[ratio.min(),ratio.min()],[bot,bot],'r-',alpha=0.3)\n",
      "proxyGive, = ax.plot([width.min(),width.min()],[ratio.min(),ratio.min()],[bot,bot],'g-',alpha=0.3)\n",
      "\n",
      "ax.plot_surface(xMesh2,yMesh2,zMesh2,alpha=0.3,rstride=4,cstride=4)\n",
      "    \n",
      "sc = ax.scatter(width,ratio,factor)\n",
      "\n",
      "ax.set_xlabel('Width')\n",
      "ax.set_ylabel('Ratio')\n",
      "ax.set_zlabel('Factor')\n",
      "\n",
      "ax.set_ylim(top = 1)\n",
      "\n",
      "ax.set_title('Fit displayed against width and aspect ratio')\n",
      "\n",
      "ax.view_init(elev=parameters['figureElev'], azim=parameters['figureAzim'])\n",
      "\n",
      "ax.set_zlim(bot,top)\n",
      "\n",
      "legend([proxyGap,proxyGive],['Gap threshold', 'Give threshold'],loc=7,prop={'size':8})"
     ],
     "language": "python",
     "metadata": {},
     "outputs": []
    },
    {
     "cell_type": "heading",
     "level": 2,
     "metadata": {},
     "source": [
      "Contour plots of the threshold parameters"
     ]
    },
    {
     "cell_type": "markdown",
     "metadata": {},
     "source": [
      "Explanation"
     ]
    },
    {
     "cell_type": "heading",
     "level": 3,
     "metadata": {},
     "source": [
      "Angle gap"
     ]
    },
    {
     "cell_type": "code",
     "collapsed": false,
     "input": [
      "fig = plt.figure()\n",
      "ax = fig.add_subplot(111)\n",
      "\n",
      "cf = ax.contourf(xMesh2,yMesh2,gapMesh2,60)\n",
      "colorbar(cf, label='Angle gap')\n",
      "\n",
      "ax.contour(xMesh2,yMesh2,gapMesh2,60)\n",
      "\n",
      "ax.contour(xMesh2,yMesh2,gapMesh2,levels=[parameters['gapThreshold']],colors='k')\n",
      "\n",
      "ax.plot(width,ratio,'k.')\n",
      "\n",
      "ax.set_xlabel('Width')\n",
      "ax.set_ylabel('Ratio')\n",
      "\n",
      "ax.set_title('Contour plot of the angle gap')"
     ],
     "language": "python",
     "metadata": {},
     "outputs": []
    },
    {
     "cell_type": "heading",
     "level": 3,
     "metadata": {},
     "source": [
      "Fit Give"
     ]
    },
    {
     "cell_type": "code",
     "collapsed": false,
     "input": [
      "fig = plt.figure()\n",
      "ax = fig.add_subplot(111)\n",
      "\n",
      "cf = ax.contourf(xMesh2,yMesh2,giveMesh2,60)\n",
      "colorbar(cf, label='Fit give')\n",
      "\n",
      "ax.contour(xMesh2,yMesh2,giveMesh2,60)\n",
      "\n",
      "ax.contour(xMesh2,yMesh2,giveMesh2,levels=[parameters['giveThreshold']],colors='k')\n",
      "\n",
      "ax.plot(width,ratio,'k.')\n",
      "\n",
      "ax.set_xlabel('Width')\n",
      "ax.set_ylabel('Ratio')\n",
      "\n",
      "ax.set_title('Contour plot of the fit give')"
     ],
     "language": "python",
     "metadata": {},
     "outputs": []
    },
    {
     "cell_type": "heading",
     "level": 2,
     "metadata": {},
     "source": [
      "Residuals"
     ]
    },
    {
     "cell_type": "markdown",
     "metadata": {},
     "source": [
      "Explaination here"
     ]
    },
    {
     "cell_type": "heading",
     "level": 3,
     "metadata": {},
     "source": [
      "Standard deviation of the residuals"
     ]
    },
    {
     "cell_type": "code",
     "collapsed": false,
     "input": [
      "fitFactors = splineFit.ev(width,log2(ratio))\n",
      "residuals = fitFactors - factor\n",
      "\n",
      "std(residuals)"
     ],
     "language": "python",
     "metadata": {},
     "outputs": []
    },
    {
     "cell_type": "heading",
     "level": 3,
     "metadata": {},
     "source": [
      "Histogram of residuals"
     ]
    },
    {
     "cell_type": "code",
     "collapsed": false,
     "input": [
      "fig = plt.figure()\n",
      "ax = fig.add_subplot(111)\n",
      "\n",
      "n, bins, patches = hist(residuals)\n",
      "setp(patches, 'facecolor', 'g', 'alpha', 0.5)\n",
      "\n",
      "ax.set_xlabel('Residuals')\n",
      "ax.set_ylabel('Frequency')\n",
      "\n",
      "ax.set_title('Histogram of residuals')"
     ],
     "language": "python",
     "metadata": {},
     "outputs": []
    },
    {
     "cell_type": "heading",
     "level": 3,
     "metadata": {},
     "source": [
      "Scatter plot of residuals"
     ]
    },
    {
     "cell_type": "code",
     "collapsed": false,
     "input": [
      "fig = plt.figure()\n",
      "ax = fig.add_subplot(111, projection='3d')\n",
      "\n",
      "ax.plot_surface(xMesh2,yMesh2,zMesh2,alpha=0.3,rstride=4,cstride=4)\n",
      "    \n",
      "sc = ax.scatter(width,ratio,factor,c=abs(residuals))\n",
      "fig.colorbar(sc, label='Absolute residuals')\n",
      "\n",
      "ax.set_xlabel('Width')\n",
      "ax.set_ylabel('Ratio')\n",
      "ax.set_zlabel('Factor')\n",
      "\n",
      "ax.set_title('Data coloured according to absolute residuals')\n",
      "\n",
      "ax.view_init(elev=parameters['figureElev'], azim=parameters['figureAzim'])"
     ],
     "language": "python",
     "metadata": {},
     "outputs": []
    },
    {
     "cell_type": "heading",
     "level": 3,
     "metadata": {},
     "source": [
      "Table of residuals"
     ]
    },
    {
     "cell_type": "code",
     "collapsed": false,
     "input": [
      "df = pd.DataFrame(transpose([width, length, factor, fitFactors, residuals, residuals/std(residuals)]))\n",
      "df.columns = ['Width', 'Length', 'Measured Factor', 'Fit Factor', 'Residual', 'Standard deviations']\n",
      "display_html(df)"
     ],
     "language": "python",
     "metadata": {},
     "outputs": []
    },
    {
     "cell_type": "heading",
     "level": 2,
     "metadata": {},
     "source": [
      "Validation"
     ]
    },
    {
     "cell_type": "markdown",
     "metadata": {},
     "source": [
      "Validation tests are achieved by removing the data points in question, creating a new fit, and comparing the predicted value to the measured value."
     ]
    },
    {
     "cell_type": "code",
     "collapsed": false,
     "input": [
      "predictedFactor = zeros(shape(width))\n",
      "\n",
      "predictionAngleGap = zeros(shape(width))\n",
      "predictionFitGive = zeros(shape(width))\n",
      "#predictionFlexibility = zeros(shape(width))\n",
      "\n",
      "for i in range(len(width)):\n",
      "    \n",
      "    x = width[i]\n",
      "    y = log2(width[i]/length[i])\n",
      "    \n",
      "    adjWidth = np.delete(width,i)\n",
      "    adjLength = np.delete(length,i)\n",
      "    adjFactor = np.delete(factor,i)\n",
      "    \n",
      "    adjWidthMirrored = np.append(adjWidth,adjWidth)\n",
      "    adjRatioLogMirrored = np.log2(np.append(adjWidth/adjLength,adjLength/adjWidth))\n",
      "    adjFactorMirrored = np.append(adjFactor,adjFactor)\n",
      "\n",
      "    adjSplineFit = SmoothBivariateSpline(adjWidthMirrored,adjRatioLogMirrored,adjFactorMirrored)\n",
      "    \n",
      "    predictedFactor[i] = adjSplineFit.ev(x,y)\n",
      "    predictionAngleGap[i] = angle_gap(x,y,adjWidthMirrored,adjRatioLogMirrored,1,2)\n",
      "    predictionFitGive[i] = fit_give(x,y,adjWidthMirrored,adjRatioLogMirrored,adjFactorMirrored)"
     ],
     "language": "python",
     "metadata": {},
     "outputs": []
    },
    {
     "cell_type": "heading",
     "level": 3,
     "metadata": {},
     "source": [
      "User defined prediction tolerances"
     ]
    },
    {
     "cell_type": "markdown",
     "metadata": {},
     "source": [
      "In order for a data point to be able to be predicted it needs to be within these user defined tolerances:"
     ]
    },
    {
     "cell_type": "code",
     "collapsed": false,
     "input": [
      "df = pd.DataFrame([parameters['gapThreshold'], parameters['giveThreshold']])\n",
      "df.index = ['Gap Threshold', 'Give Threshold']\n",
      "df.columns = ['Tolerances']\n",
      "display_html(df)"
     ],
     "language": "python",
     "metadata": {},
     "outputs": []
    },
    {
     "cell_type": "heading",
     "level": 3,
     "metadata": {},
     "source": [
      "Table of predicted factors"
     ]
    },
    {
     "cell_type": "markdown",
     "metadata": {},
     "source": [
      "The prediction of each of the measured data points is given below. Those with an angle gap or fit give higher than the tolerances given above would normally give a result of \"nan\"."
     ]
    },
    {
     "cell_type": "code",
     "collapsed": false,
     "input": [
      "difference = factor - predictedFactor\n",
      "withinThresholds = (predictionAngleGap<parameters['gapThreshold']) & (predictionFitGive<parameters['giveThreshold'])\n",
      "\n",
      "df = pd.DataFrame(transpose([width, length, factor, predictedFactor, difference,\n",
      "                             predictionAngleGap, predictionFitGive, withinThresholds]))\n",
      "df.columns = ['Width', 'Length', 'Measured Factor', 'Predicted Factor', 'Difference',\n",
      "              'Angle Gap', 'Fit Give', 'Within thresholds']\n",
      "display_html(df)"
     ],
     "language": "python",
     "metadata": {},
     "outputs": []
    },
    {
     "cell_type": "heading",
     "level": 3,
     "metadata": {},
     "source": [
      "Standard deviation of prediction differences which are within the thresholds"
     ]
    },
    {
     "cell_type": "markdown",
     "metadata": {},
     "source": [
      "The standard deviation of the prediction differences for valid data points is given as the following:"
     ]
    },
    {
     "cell_type": "code",
     "collapsed": false,
     "input": [
      "print(\"There are\", sum(withinThresholds), \"points within give and gap thresholds.\"+\n",
      "      \"\\nThe standard deviation of the prediction differences for these is\", std(difference[withinThresholds]))"
     ],
     "language": "python",
     "metadata": {},
     "outputs": []
    },
    {
     "cell_type": "heading",
     "level": 3,
     "metadata": {},
     "source": [
      "Histogram of the prediction differences which are within threshold"
     ]
    },
    {
     "cell_type": "code",
     "collapsed": false,
     "input": [
      "fig = plt.figure()\n",
      "ax = fig.add_subplot(111)\n",
      "\n",
      "n, bins, patches = hist(difference[withinThresholds])\n",
      "setp(patches, 'facecolor', 'g', 'alpha', 0.5)\n",
      "\n",
      "ax.set_xlabel('Prediction differences')\n",
      "ax.set_ylabel('Frequency')\n",
      "\n",
      "ax.set_title('Histogram of prediction differences')"
     ],
     "language": "python",
     "metadata": {},
     "outputs": []
    },
    {
     "cell_type": "heading",
     "level": 2,
     "metadata": {},
     "source": [
      "Output interpolation table"
     ]
    },
    {
     "cell_type": "heading",
     "level": 3,
     "metadata": {},
     "source": [
      "User defined grid size"
     ]
    },
    {
     "cell_type": "code",
     "collapsed": false,
     "input": [
      "df = pd.DataFrame([parameters['widthInterpResolution'], parameters['ratioInterpResolution']])\n",
      "df.index = ['Width', 'Ratio']\n",
      "df.columns = ['Resolutions']\n",
      "display_html(df)"
     ],
     "language": "python",
     "metadata": {},
     "outputs": []
    },
    {
     "cell_type": "heading",
     "level": 3,
     "metadata": {},
     "source": [
      "Creating the interpolation mesh"
     ]
    },
    {
     "cell_type": "code",
     "collapsed": false,
     "input": [
      "# ===========================\n",
      "#            IDEA\n",
      "#\n",
      "# This mesh can be more intelligently created. \n",
      "# Spread out the steps so that on average each column/row jump has similar cutout effect.\n",
      "# Could even make it so that the user input is instead, \"diff between rows and cols\". \n",
      "#  ^^ This way should work. Use iterative optimisation:\n",
      "#     maybe scipy.optimize.minimize of \n",
      "#     `mean((max(columnDiffs) - parameterDiff)**2) + mean((max(rowDiffs) - parameterDiff)**2)`\n",
      "# ===========================\n",
      "\n",
      "xVec3 = around(linspace(width.min(),width.max(),parameters['widthInterpResolution']),decimals = 3)\n",
      "yVec3 = around(linspace(ratio.min(),ratio.max(),parameters['ratioInterpResolution']),decimals = 3)\n",
      "\n",
      "xMesh3, yMesh3 = meshgrid(xVec3, yVec3) \n",
      "gapMesh3 = angle_gap(xMesh3,log2(yMesh3),widthMirrored,ratioLogMirrored,1,2)\n",
      "giveMesh3 = fit_give(xMesh3,log2(yMesh3),widthMirrored,ratioLogMirrored,factorMirrored)\n",
      "\n",
      "zMesh3 = splineFit.ev(xMesh3, log2(yMesh3))\n",
      "\n",
      "ref3 = (gapMesh3>parameters['gapThreshold']) | (giveMesh3>parameters['giveThreshold'])\n",
      "zMesh3[ref3] = nan\n",
      "\n",
      "interpDf = pd.DataFrame(zMesh3)\n",
      "interpDf.columns = xVec3\n",
      "interpDf.columns.name = 'width'\n",
      "interpDf.index = yVec3\n",
      "interpDf.index.name = 'ratio'\n",
      "\n",
      "\n",
      "display_html(interpDf)"
     ],
     "language": "python",
     "metadata": {},
     "outputs": []
    },
    {
     "cell_type": "heading",
     "level": 3,
     "metadata": {},
     "source": [
      "Save interpolation table to csv"
     ]
    },
    {
     "cell_type": "code",
     "collapsed": false,
     "input": [
      "interpolationTableFilepath = modelOutputDirectory+\"/interpolation-table.csv\"\n",
      "\n",
      "interpDf.to_csv(interpolationTableFilepath, index_label = 'ratio | width')"
     ],
     "language": "python",
     "metadata": {},
     "outputs": []
    },
    {
     "cell_type": "heading",
     "level": 2,
     "metadata": {},
     "source": [
      "Requested cutout factors"
     ]
    },
    {
     "cell_type": "heading",
     "level": 3,
     "metadata": {},
     "source": [
      "File used"
     ]
    },
    {
     "cell_type": "code",
     "collapsed": false,
     "input": [
      "requestedCutoutFilepath = '../input/requested-cutouts/'+inputDataFilename+'.csv'\n",
      "\n",
      "if os.path.isfile(requestedCutoutFilepath):\n",
      "    print(\"File found at '\"+requestedCutoutFilepath+\"'\")\n",
      "else:\n",
      "    print(\"No requested cutout file found for \"+inputDataFilename+\n",
      "          \"\\nLooked for '\"+requestedCutoutFilepath+\"'\")"
     ],
     "language": "python",
     "metadata": {},
     "outputs": []
    },
    {
     "cell_type": "heading",
     "level": 3,
     "metadata": {},
     "source": [
      "Loading the requested cutouts"
     ]
    },
    {
     "cell_type": "code",
     "collapsed": false,
     "input": [
      "if os.path.isfile(requestedCutoutFilepath):\n",
      "    \n",
      "    requestedCutouts = pd.read_csv(requestedCutoutFilepath)\n",
      "    reqWidth = requestedCutouts['width'].values\n",
      "    reqLength = requestedCutouts['length'].values\n",
      "    \n",
      "    display_html(requestedCutouts)"
     ],
     "language": "python",
     "metadata": {},
     "outputs": []
    },
    {
     "cell_type": "heading",
     "level": 3,
     "metadata": {},
     "source": [
      "Calculating the requested factors"
     ]
    },
    {
     "cell_type": "code",
     "collapsed": false,
     "input": [
      "if os.path.isfile(requestedCutoutFilepath):\n",
      "    \n",
      "    x = reqWidth\n",
      "    y = log2(reqWidth/reqLength)\n",
      "    \n",
      "    predictedCutouts = splineFit.ev(x,y)\n",
      "    \n",
      "    predictionGap = angle_gap(x,y,widthMirrored,ratioLogMirrored,1,2)\n",
      "    predictionGive = fit_give(x,y,widthMirrored,ratioLogMirrored,factorMirrored)\n",
      "    \n",
      "    ref4 = (predictionGap>parameters['gapThreshold']) | (predictionGive>parameters['giveThreshold'])\n",
      "    predictedCutouts[ref4] = nan\n",
      "    \n",
      "    predictedDf = pd.DataFrame(transpose([reqWidth, reqLength, predictionGap, predictionGive, predictedCutouts]))\n",
      "    predictedDf.columns = ['width', 'length', 'gap', 'give','factor']\n",
      "    display_html(predictedDf)"
     ],
     "language": "python",
     "metadata": {},
     "outputs": []
    },
    {
     "cell_type": "heading",
     "level": 3,
     "metadata": {},
     "source": [
      "Save requested factors to csv"
     ]
    },
    {
     "cell_type": "code",
     "collapsed": false,
     "input": [
      "if os.path.isfile(requestedCutoutFilepath):\n",
      "    \n",
      "    predictedCutoutsFilepath = modelOutputDirectory+\"/predicted-cutouts.csv\"\n",
      "    \n",
      "    predictedDf.to_csv(path_or_buf = predictedCutoutsFilepath, index=False)"
     ],
     "language": "python",
     "metadata": {},
     "outputs": []
    }
   ],
   "metadata": {}
  }
 ]
}