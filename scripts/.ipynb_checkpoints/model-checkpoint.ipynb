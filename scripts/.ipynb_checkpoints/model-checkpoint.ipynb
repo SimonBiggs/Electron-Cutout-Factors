{
 "metadata": {
  "name": "",
  "signature": "sha256:d5817b5cb1706a6b7d77224c61b4b777ae1256ea60b16bbe12fa3bf98b072feb"
 },
 "nbformat": 3,
 "nbformat_minor": 0,
 "worksheets": [
  {
   "cells": [
    {
     "cell_type": "heading",
     "level": 1,
     "metadata": {},
     "source": [
      "Electron cutout factor model notebook"
     ]
    },
    {
     "cell_type": "markdown",
     "metadata": {},
     "source": [
      "Description goes here"
     ]
    },
    {
     "cell_type": "heading",
     "level": 2,
     "metadata": {},
     "source": [
      "Loading the required packages"
     ]
    },
    {
     "cell_type": "code",
     "collapsed": false,
     "input": [
      "%pylab inline"
     ],
     "language": "python",
     "metadata": {},
     "outputs": []
    },
    {
     "cell_type": "code",
     "collapsed": false,
     "input": [
      "import datetime\n",
      "import os\n",
      "import csv\n",
      "from glob import glob"
     ],
     "language": "python",
     "metadata": {},
     "outputs": []
    },
    {
     "cell_type": "code",
     "collapsed": false,
     "input": [
      "from IPython.core.display import display_html\n",
      "import pandas as pd\n",
      "\n",
      "pd.options.display.max_columns = 12"
     ],
     "language": "python",
     "metadata": {},
     "outputs": []
    },
    {
     "cell_type": "code",
     "collapsed": false,
     "input": [
      "from scipy.interpolate import SmoothBivariateSpline"
     ],
     "language": "python",
     "metadata": {},
     "outputs": []
    },
    {
     "cell_type": "code",
     "collapsed": false,
     "input": [
      "import matplotlib.pyplot as plt\n",
      "from mpl_toolkits.mplot3d import Axes3D"
     ],
     "language": "python",
     "metadata": {},
     "outputs": []
    },
    {
     "cell_type": "code",
     "collapsed": false,
     "input": [
      "pylab.rcParams['savefig.dpi'] = 150 "
     ],
     "language": "python",
     "metadata": {},
     "outputs": []
    },
    {
     "cell_type": "code",
     "collapsed": false,
     "input": [
      "from userfunctions import *"
     ],
     "language": "python",
     "metadata": {},
     "outputs": []
    },
    {
     "cell_type": "heading",
     "level": 2,
     "metadata": {},
     "source": [
      "Load user parameters and report"
     ]
    },
    {
     "cell_type": "code",
     "collapsed": false,
     "input": [
      "parameterFilepath = \"../input/parameters.csv\"\n",
      "\n",
      "reader = csv.reader(open(parameterFilepath),delimiter=',')\n",
      "parameters = dict(([x[0],float(x[1])] for x in reader))\n",
      "\n",
      "parameters"
     ],
     "language": "python",
     "metadata": {},
     "outputs": []
    },
    {
     "cell_type": "heading",
     "level": 2,
     "metadata": {},
     "source": [
      "Retrieving/defining input file path"
     ]
    },
    {
     "cell_type": "code",
     "collapsed": false,
     "input": [
      "inputDataFilepath = os.environ.get('INPUTDATAFILEPATH', -1)\n",
      "\n",
      "if inputDataFilepath == -1:\n",
      "    inputDataFilelist = glob(\"../input/data/*.csv\")\n",
      "    inputDataFilepath = inputDataFilelist[1]\n",
      "    \n",
      "    print(\"Warning: input filepath was not retrievable\")\n",
      "    \n",
      "inputDataFilename = os.path.basename(inputDataFilepath)[0:-4]"
     ],
     "language": "python",
     "metadata": {},
     "outputs": []
    },
    {
     "cell_type": "heading",
     "level": 2,
     "metadata": {},
     "source": [
      "Retrieving/defining output directory"
     ]
    },
    {
     "cell_type": "code",
     "collapsed": false,
     "input": [
      "modelOutputDirectory = os.environ.get('MODELOUTPUTDIRECTORY', -1)\n",
      "\n",
      "if modelOutputDirectory == -1:\n",
      "    stamp = datetime.datetime.now().strftime(\"%Y%m%d_%H%M%S\")\n",
      "    inputDataFilename = os.path.basename(inputDataFilepath)[0:-4]\n",
      "    modelOutputDirectory = \"../output/\"+stamp+\"/\"+inputDataFilename\n",
      "    \n",
      "    print(\"Warning: model output directory was not retrievable\")\n",
      "\n",
      "if not os.path.exists(modelOutputDirectory):\n",
      "    os.makedirs(modelOutputDirectory)"
     ],
     "language": "python",
     "metadata": {},
     "outputs": []
    },
    {
     "cell_type": "heading",
     "level": 2,
     "metadata": {},
     "source": [
      "Load cutout data"
     ]
    },
    {
     "cell_type": "heading",
     "level": 3,
     "metadata": {},
     "source": [
      "Data filepath used"
     ]
    },
    {
     "cell_type": "code",
     "collapsed": false,
     "input": [
      "inputDataFilepath"
     ],
     "language": "python",
     "metadata": {},
     "outputs": []
    },
    {
     "cell_type": "code",
     "collapsed": false,
     "input": [
      "cutoutData = pd.read_csv(inputDataFilepath)\n",
      "width = cutoutData['width'].values\n",
      "length = cutoutData['length'].values\n",
      "factor = cutoutData['factor'].values\n",
      "\n",
      "ratio = width/length"
     ],
     "language": "python",
     "metadata": {},
     "outputs": []
    },
    {
     "cell_type": "heading",
     "level": 3,
     "metadata": {},
     "source": [
      "The loaded data"
     ]
    },
    {
     "cell_type": "code",
     "collapsed": false,
     "input": [
      "df = pd.DataFrame(transpose([width, length, factor]))\n",
      "df.columns = ['width', 'length', 'factor']\n",
      "display_html(df)"
     ],
     "language": "python",
     "metadata": {},
     "outputs": []
    },
    {
     "cell_type": "heading",
     "level": 3,
     "metadata": {},
     "source": [
      "Plot of the data provided"
     ]
    },
    {
     "cell_type": "code",
     "collapsed": false,
     "input": [
      "fig = plt.figure()\n",
      "ax = fig.add_subplot(111, projection='3d')\n",
      "\n",
      "bot = np.amin(factor) - 0.1 * np.ptp(factor)\n",
      "top = np.amax(factor) + 0.1 * np.ptp(factor)\n",
      "\n",
      "ax.scatter(width,ratio,bot,c='r',s=5)\n",
      "\n",
      "for i in range(len(factor)):\n",
      "    ax.plot([width[i],width[i]],[ratio[i],ratio[i]],[factor[i],bot],'k',alpha=0.5)\n",
      "    \n",
      "ax.scatter(width,ratio,factor,c='b')\n",
      "ax.set_xlabel('Width')\n",
      "ax.set_ylabel('Ratio')\n",
      "ax.set_zlabel('Factor')\n",
      "\n",
      "ax.set_title('Provided data')\n",
      "\n",
      "ax.set_zlim(bot,top)\n",
      "ax.view_init(elev=parameters['figureElev'], azim=parameters['figureAzim'])"
     ],
     "language": "python",
     "metadata": {},
     "outputs": []
    },
    {
     "cell_type": "heading",
     "level": 2,
     "metadata": {},
     "source": [
      "Spline fitting"
     ]
    },
    {
     "cell_type": "markdown",
     "metadata": {},
     "source": [
      "Mirror the data for spline fitting. This is done so that the full information available is used for the spline fitting around shapes with aspect ratios close to unity."
     ]
    },
    {
     "cell_type": "code",
     "collapsed": false,
     "input": [
      "widthMirrored = np.append(width,width)\n",
      "ratioLogMirrored = np.log2(np.append(width/length,length/width))\n",
      "factorMirrored = np.append(factor,factor)"
     ],
     "language": "python",
     "metadata": {},
     "outputs": []
    },
    {
     "cell_type": "markdown",
     "metadata": {},
     "source": [
      "Impliment the spline fit"
     ]
    },
    {
     "cell_type": "code",
     "collapsed": false,
     "input": [
      "splineFit = SmoothBivariateSpline(widthMirrored,ratioLogMirrored,factorMirrored)"
     ],
     "language": "python",
     "metadata": {},
     "outputs": []
    },
    {
     "cell_type": "heading",
     "level": 3,
     "metadata": {},
     "source": [
      "Plotting the spline fit in its natural form"
     ]
    },
    {
     "cell_type": "markdown",
     "metadata": {},
     "source": [
      "Explanation"
     ]
    },
    {
     "cell_type": "code",
     "collapsed": false,
     "input": [
      "xVec1 = linspace(widthMirrored.min(),widthMirrored.max(),100)\n",
      "yVec1 = linspace(ratioLogMirrored.min(),ratioLogMirrored.max(),100)\n",
      "\n",
      "xMesh1, yMesh1 = meshgrid(xVec1, yVec1)\n",
      "gapMesh1 = angle_gap(xMesh1,yMesh1,widthMirrored,ratioLogMirrored,1,2)\n",
      "giveMesh1 = fit_give(xMesh1,yMesh1,widthMirrored,ratioLogMirrored,factorMirrored)\n",
      "\n",
      "zMesh1 = splineFit.ev(xMesh1, yMesh1)\n",
      "\n",
      "ref1 = (gapMesh1>parameters['gapThreshold']) | (giveMesh1>parameters['giveThreshold'])\n",
      "zMesh1[ref1] = nan"
     ],
     "language": "python",
     "metadata": {},
     "outputs": []
    },
    {
     "cell_type": "code",
     "collapsed": false,
     "input": [
      "fig = plt.figure()\n",
      "ax = fig.add_subplot(111, projection='3d')\n",
      "\n",
      "\n",
      "ax.contour(xMesh1,yMesh1,gapMesh1, offset=bot, levels=[parameters['gapThreshold']], colors='r',alpha=0.3)\n",
      "ax.contour(xMesh1,yMesh1,giveMesh1, offset=bot, levels=[parameters['giveThreshold']], colors='g',alpha=0.3)\n",
      "\n",
      "proxyGap, = ax.plot([width.min(),width.min()],[ratioLogMirrored.min(),ratioLogMirrored.min()],[bot,bot],'r-',alpha=0.3)\n",
      "proxyGive, = ax.plot([width.min(),width.min()],[ratioLogMirrored.min(),ratioLogMirrored.min()],[bot,bot],'g-',alpha=0.3)\n",
      "\n",
      "\n",
      "ax.plot_surface(xMesh1,yMesh1,zMesh1,alpha=0.3,rstride=4,cstride=4)\n",
      "    \n",
      "ax.scatter(widthMirrored,ratioLogMirrored,factorMirrored,'b')\n",
      "ax.set_xlabel('Width')\n",
      "ax.set_ylabel('log2(ratio)')\n",
      "ax.set_zlabel('Factor')\n",
      "\n",
      "ax.set_title('Spline fit of mirrored data against width and log2(ratio)')\n",
      "\n",
      "ax.view_init(elev=parameters['figureElev'], azim=parameters['figureAzim'])\n",
      "\n",
      "ax.set_zlim(bot,top)\n",
      "\n",
      "legend([proxyGap,proxyGive],['Gap threshold', 'Give threshold'],loc=7,prop={'size':8})"
     ],
     "language": "python",
     "metadata": {},
     "outputs": []
    },
    {
     "cell_type": "heading",
     "level": 3,
     "metadata": {},
     "source": [
      "Plotting the spline fit in the useful form"
     ]
    },
    {
     "cell_type": "markdown",
     "metadata": {},
     "source": [
      "Explaination"
     ]
    },
    {
     "cell_type": "code",
     "collapsed": false,
     "input": [
      "xVec2 = linspace(width.min(),width.max(),100)\n",
      "yVec2 = linspace(ratio.min(),ratio.max(),100)\n",
      "\n",
      "xMesh2, yMesh2 = meshgrid(xVec2, yVec2)\n",
      "gapMesh2 = angle_gap(xMesh2,log2(yMesh2),widthMirrored,ratioLogMirrored,1,2)\n",
      "giveMesh2 = fit_give(xMesh2,log2(yMesh2),widthMirrored,ratioLogMirrored,factorMirrored)\n",
      "\n",
      "zMesh2 = splineFit.ev(xMesh2, log2(yMesh2))\n",
      "\n",
      "ref2 = (gapMesh2>parameters['gapThreshold']) | (giveMesh2>parameters['giveThreshold'])\n",
      "zMesh2[ref2] = nan"
     ],
     "language": "python",
     "metadata": {},
     "outputs": []
    },
    {
     "cell_type": "code",
     "collapsed": false,
     "input": [
      "fig = plt.figure()\n",
      "ax = fig.add_subplot(111, projection='3d')\n",
      "\n",
      "ax.contour(xMesh2,yMesh2,gapMesh2, offset=bot, levels=[parameters['gapThreshold']], colors='r',alpha=0.3)\n",
      "ax.contour(xMesh2,yMesh2,giveMesh2, offset=bot, levels=[parameters['giveThreshold']], colors='g',alpha=0.3)\n",
      "\n",
      "proxyGap, = ax.plot([width.min(),width.min()],[ratio.min(),ratio.min()],[bot,bot],'r-',alpha=0.3)\n",
      "proxyGive, = ax.plot([width.min(),width.min()],[ratio.min(),ratio.min()],[bot,bot],'g-',alpha=0.3)\n",
      "\n",
      "ax.plot_surface(xMesh2,yMesh2,zMesh2,alpha=0.3,rstride=4,cstride=4)\n",
      "    \n",
      "sc = ax.scatter(width,ratio,factor)\n",
      "\n",
      "ax.set_xlabel('Width')\n",
      "ax.set_ylabel('Ratio')\n",
      "ax.set_zlabel('Factor')\n",
      "\n",
      "ax.set_ylim(top = 1)\n",
      "\n",
      "ax.set_title('Fit displayed against width and aspect ratio')\n",
      "\n",
      "ax.view_init(elev=parameters['figureElev'], azim=parameters['figureAzim'])\n",
      "\n",
      "ax.set_zlim(bot,top)\n",
      "\n",
      "legend([proxyGap,proxyGive],['Gap threshold', 'Give threshold'],loc=7,prop={'size':8})"
     ],
     "language": "python",
     "metadata": {},
     "outputs": []
    },
    {
     "cell_type": "heading",
     "level": 2,
     "metadata": {},
     "source": [
      "Contour plots of the threshold parameters"
     ]
    },
    {
     "cell_type": "markdown",
     "metadata": {},
     "source": [
      "Explanation"
     ]
    },
    {
     "cell_type": "heading",
     "level": 3,
     "metadata": {},
     "source": [
      "Angle gap"
     ]
    },
    {
     "cell_type": "code",
     "collapsed": false,
     "input": [
      "fig = plt.figure()\n",
      "ax = fig.add_subplot(111)\n",
      "\n",
      "cf = ax.contourf(xMesh2,yMesh2,gapMesh2,60)\n",
      "colorbar(cf, label='Angle gap')\n",
      "\n",
      "ax.contour(xMesh2,yMesh2,gapMesh2,60)\n",
      "\n",
      "ax.contour(xMesh2,yMesh2,gapMesh2,levels=[parameters['gapThreshold']],colors='k')\n",
      "\n",
      "ax.plot(width,ratio,'k.')\n",
      "\n",
      "ax.set_xlabel('Width')\n",
      "ax.set_ylabel('Ratio')\n",
      "\n",
      "ax.set_title('Contour plot of the angle gap')"
     ],
     "language": "python",
     "metadata": {},
     "outputs": []
    },
    {
     "cell_type": "heading",
     "level": 3,
     "metadata": {},
     "source": [
      "Fit Give"
     ]
    },
    {
     "cell_type": "code",
     "collapsed": false,
     "input": [
      "fig = plt.figure()\n",
      "ax = fig.add_subplot(111)\n",
      "\n",
      "cf = ax.contourf(xMesh2,yMesh2,giveMesh2,60)\n",
      "colorbar(cf, label='Fit give')\n",
      "\n",
      "ax.contour(xMesh2,yMesh2,giveMesh2,60)\n",
      "\n",
      "ax.contour(xMesh2,yMesh2,giveMesh2,levels=[parameters['giveThreshold']],colors='k')\n",
      "\n",
      "ax.plot(width,ratio,'k.')\n",
      "\n",
      "ax.set_xlabel('Width')\n",
      "ax.set_ylabel('Ratio')\n",
      "\n",
      "ax.set_title('Contour plot of the fit give')"
     ],
     "language": "python",
     "metadata": {},
     "outputs": []
    },
    {
     "cell_type": "heading",
     "level": 2,
     "metadata": {},
     "source": [
      "Residuals"
     ]
    },
    {
     "cell_type": "markdown",
     "metadata": {},
     "source": [
      "Explaination here"
     ]
    },
    {
     "cell_type": "heading",
     "level": 3,
     "metadata": {},
     "source": [
      "Standard deviation of the residuals"
     ]
    },
    {
     "cell_type": "code",
     "collapsed": false,
     "input": [
      "fitFactors = splineFit.ev(width,log2(ratio))\n",
      "residuals = fitFactors - factor\n",
      "\n",
      "std(residuals)"
     ],
     "language": "python",
     "metadata": {},
     "outputs": []
    },
    {
     "cell_type": "heading",
     "level": 3,
     "metadata": {},
     "source": [
      "Histogram of residuals"
     ]
    },
    {
     "cell_type": "code",
     "collapsed": false,
     "input": [
      "fig = plt.figure()\n",
      "ax = fig.add_subplot(111)\n",
      "\n",
      "n, bins, patches = hist(residuals)\n",
      "setp(patches, 'facecolor', 'g', 'alpha', 0.5)\n",
      "\n",
      "ax.set_xlabel('Residuals')\n",
      "ax.set_ylabel('Frequency')\n",
      "\n",
      "ax.set_title('Histogram of residuals')"
     ],
     "language": "python",
     "metadata": {},
     "outputs": []
    },
    {
     "cell_type": "heading",
     "level": 3,
     "metadata": {},
     "source": [
      "Scatter plot of residuals"
     ]
    },
    {
     "cell_type": "code",
     "collapsed": false,
     "input": [
      "fig = plt.figure()\n",
      "ax = fig.add_subplot(111, projection='3d')\n",
      "\n",
      "ax.plot_surface(xMesh2,yMesh2,zMesh2,alpha=0.3,rstride=4,cstride=4)\n",
      "    \n",
      "sc = ax.scatter(width,ratio,factor,c=abs(residuals))\n",
      "fig.colorbar(sc, label='Absolute residuals')\n",
      "\n",
      "ax.set_xlabel('Width')\n",
      "ax.set_ylabel('Ratio')\n",
      "ax.set_zlabel('Factor')\n",
      "\n",
      "ax.set_title('Data coloured according to absolute residuals')\n",
      "\n",
      "ax.view_init(elev=parameters['figureElev'], azim=parameters['figureAzim'])"
     ],
     "language": "python",
     "metadata": {},
     "outputs": []
    },
    {
     "cell_type": "heading",
     "level": 3,
     "metadata": {},
     "source": [
      "Table of residuals"
     ]
    },
    {
     "cell_type": "code",
     "collapsed": false,
     "input": [
      "df = pd.DataFrame(transpose([width, length, factor, fitFactors, residuals, residuals/std(residuals)]))\n",
      "df.columns = ['Width', 'Length', 'Measured Factor', 'Fit Factor', 'Residual', 'Standard deviations']\n",
      "display_html(df)"
     ],
     "language": "python",
     "metadata": {},
     "outputs": []
    },
    {
     "cell_type": "heading",
     "level": 2,
     "metadata": {},
     "source": [
      "Validation"
     ]
    },
    {
     "cell_type": "markdown",
     "metadata": {},
     "source": [
      "Validation tests are achieved by removing the data points in question, creating a new fit, and comparing the predicted value to the measured value."
     ]
    },
    {
     "cell_type": "code",
     "collapsed": false,
     "input": [
      "predictedFactor = zeros(shape(width))\n",
      "\n",
      "predictionAngleGap = zeros(shape(width))\n",
      "predictionFitGive = zeros(shape(width))\n",
      "#predictionFlexibility = zeros(shape(width))\n",
      "\n",
      "for i in range(len(width)):\n",
      "    \n",
      "    x = width[i]\n",
      "    y = log2(width[i]/length[i])\n",
      "    \n",
      "    adjWidth = np.delete(width,i)\n",
      "    adjLength = np.delete(length,i)\n",
      "    adjFactor = np.delete(factor,i)\n",
      "    \n",
      "    adjWidthMirrored = np.append(adjWidth,adjWidth)\n",
      "    adjRatioLogMirrored = np.log2(np.append(adjWidth/adjLength,adjLength/adjWidth))\n",
      "    adjFactorMirrored = np.append(adjFactor,adjFactor)\n",
      "\n",
      "    adjSplineFit = SmoothBivariateSpline(adjWidthMirrored,adjRatioLogMirrored,adjFactorMirrored)\n",
      "    \n",
      "    predictedFactor[i] = adjSplineFit.ev(x,y)\n",
      "    predictionAngleGap[i] = angle_gap(x,y,adjWidthMirrored,adjRatioLogMirrored,1,2)\n",
      "    predictionFitGive[i] = fit_give(x,y,adjWidthMirrored,adjRatioLogMirrored,adjFactorMirrored)"
     ],
     "language": "python",
     "metadata": {},
     "outputs": []
    },
    {
     "cell_type": "heading",
     "level": 3,
     "metadata": {},
     "source": [
      "User defined prediction tolerances"
     ]
    },
    {
     "cell_type": "markdown",
     "metadata": {},
     "source": [
      "In order for a data point to be able to be predicted it needs to be within these user defined tolerances:"
     ]
    },
    {
     "cell_type": "code",
     "collapsed": false,
     "input": [
      "df = pd.DataFrame([parameters['gapThreshold'], parameters['giveThreshold']])\n",
      "df.index = ['Gap Threshold', 'Give Threshold']\n",
      "df.columns = ['Tolerances']\n",
      "display_html(df)"
     ],
     "language": "python",
     "metadata": {},
     "outputs": []
    },
    {
     "cell_type": "heading",
     "level": 3,
     "metadata": {},
     "source": [
      "Table of predicted factors"
     ]
    },
    {
     "cell_type": "markdown",
     "metadata": {},
     "source": [
      "The prediction of each of the measured data points is given below. Those with an angle gap or fit give higher than the tolerances given above would normally give a result of \"nan\"."
     ]
    },
    {
     "cell_type": "code",
     "collapsed": false,
     "input": [
      "difference = factor - predictedFactor\n",
      "withinThresholds = (predictionAngleGap<parameters['gapThreshold']) & (predictionFitGive<parameters['giveThreshold'])\n",
      "\n",
      "df = pd.DataFrame(transpose([width, length, factor, predictedFactor, difference,\n",
      "                             predictionAngleGap, predictionFitGive, withinThresholds]))\n",
      "df.columns = ['Width', 'Length', 'Measured Factor', 'Predicted Factor', 'Difference',\n",
      "              'Angle Gap', 'Fit Give', 'Within thresholds']\n",
      "display_html(df)"
     ],
     "language": "python",
     "metadata": {},
     "outputs": []
    },
    {
     "cell_type": "heading",
     "level": 3,
     "metadata": {},
     "source": [
      "Standard deviation of prediction differences which are within the thresholds"
     ]
    },
    {
     "cell_type": "markdown",
     "metadata": {},
     "source": [
      "The standard deviation of the prediction differences for valid data points is given as the following:"
     ]
    },
    {
     "cell_type": "code",
     "collapsed": false,
     "input": [
      "print(\"There are\", sum(withinThresholds), \"points within give and gap thresholds.\"+\n",
      "      \"\\nThe standard deviation of the prediction differences for these is\", std(difference[withinThresholds]))"
     ],
     "language": "python",
     "metadata": {},
     "outputs": []
    },
    {
     "cell_type": "heading",
     "level": 3,
     "metadata": {},
     "source": [
      "Histogram of the prediction differences which are within threshold"
     ]
    },
    {
     "cell_type": "code",
     "collapsed": false,
     "input": [
      "fig = plt.figure()\n",
      "ax = fig.add_subplot(111)\n",
      "\n",
      "n, bins, patches = hist(difference[withinThresholds])\n",
      "setp(patches, 'facecolor', 'g', 'alpha', 0.5)\n",
      "\n",
      "ax.set_xlabel('Prediction differences')\n",
      "ax.set_ylabel('Frequency')\n",
      "\n",
      "ax.set_title('Histogram of prediction differences')"
     ],
     "language": "python",
     "metadata": {},
     "outputs": []
    },
    {
     "cell_type": "heading",
     "level": 2,
     "metadata": {},
     "source": [
      "Output interpolation table"
     ]
    },
    {
     "cell_type": "heading",
     "level": 3,
     "metadata": {},
     "source": [
      "User defined grid size"
     ]
    },
    {
     "cell_type": "code",
     "collapsed": false,
     "input": [
      "df = pd.DataFrame([parameters['widthInterpResolution'], parameters['ratioInterpResolution']])\n",
      "df.index = ['Width', 'Ratio']\n",
      "df.columns = ['Resolutions']\n",
      "display_html(df)"
     ],
     "language": "python",
     "metadata": {},
     "outputs": []
    },
    {
     "cell_type": "heading",
     "level": 3,
     "metadata": {},
     "source": [
      "Creating the interpolation mesh"
     ]
    },
    {
     "cell_type": "code",
     "collapsed": false,
     "input": [
      "xVec3 = around(linspace(width.min(),width.max(),parameters['widthInterpResolution']),decimals = 3)\n",
      "yVec3 = around(linspace(ratio.min(),ratio.max(),parameters['ratioInterpResolution']),decimals = 3)\n",
      "\n",
      "xMesh3, yMesh3 = meshgrid(xVec3, yVec3)\n",
      "gapMesh3 = angle_gap(xMesh3,log2(yMesh3),widthMirrored,ratioLogMirrored,1,2)\n",
      "giveMesh3 = fit_give(xMesh3,log2(yMesh3),widthMirrored,ratioLogMirrored,factorMirrored)\n",
      "\n",
      "zMesh3 = splineFit.ev(xMesh3, log2(yMesh3))\n",
      "\n",
      "ref3 = (gapMesh3>parameters['gapThreshold']) | (giveMesh3>parameters['giveThreshold'])\n",
      "zMesh3[ref3] = nan\n",
      "\n",
      "interpDf = pd.DataFrame(zMesh3)\n",
      "interpDf.columns = xVec3\n",
      "interpDf.columns.name = 'width'\n",
      "interpDf.index = yVec3\n",
      "interpDf.index.name = 'ratio'\n",
      "\n",
      "\n",
      "display_html(interpDf)"
     ],
     "language": "python",
     "metadata": {},
     "outputs": []
    },
    {
     "cell_type": "heading",
     "level": 3,
     "metadata": {},
     "source": [
      "Save interpolation table to csv"
     ]
    },
    {
     "cell_type": "code",
     "collapsed": false,
     "input": [
      "interpolationTableFilepath = modelOutputDirectory+\"/interpolation-table.csv\"\n",
      "\n",
      "interpDf.to_csv(interpolationTableFilepath, index_label = 'ratio | width')"
     ],
     "language": "python",
     "metadata": {},
     "outputs": []
    },
    {
     "cell_type": "heading",
     "level": 2,
     "metadata": {},
     "source": [
      "Requested cutout factors"
     ]
    },
    {
     "cell_type": "heading",
     "level": 3,
     "metadata": {},
     "source": [
      "File used"
     ]
    },
    {
     "cell_type": "code",
     "collapsed": false,
     "input": [
      "requestedCutoutFilepath = '../input/requested-cutouts/'+inputDataFilename+'.csv'\n",
      "\n",
      "if os.path.isfile(requestedCutoutFilepath):\n",
      "    print(\"File found at '\"+requestedCutoutFilepath+\"'\")\n",
      "else:\n",
      "    print(\"No requested cutout file found for \"+inputDataFilename+\n",
      "          \"\\nLooked for '\"+requestedCutoutFilepath+\"'\")"
     ],
     "language": "python",
     "metadata": {},
     "outputs": []
    },
    {
     "cell_type": "heading",
     "level": 3,
     "metadata": {},
     "source": [
      "Loading the requested cutouts"
     ]
    },
    {
     "cell_type": "code",
     "collapsed": false,
     "input": [
      "if os.path.isfile(requestedCutoutFilepath):\n",
      "    \n",
      "    requestedCutouts = pd.read_csv(requestedCutoutFilepath)\n",
      "    reqWidth = requestedCutouts['width'].values\n",
      "    reqLength = requestedCutouts['length'].values\n",
      "    \n",
      "    display_html(requestedCutouts)"
     ],
     "language": "python",
     "metadata": {},
     "outputs": []
    },
    {
     "cell_type": "heading",
     "level": 3,
     "metadata": {},
     "source": [
      "Calculating the requested factors"
     ]
    },
    {
     "cell_type": "code",
     "collapsed": false,
     "input": [
      "if os.path.isfile(requestedCutoutFilepath):\n",
      "    \n",
      "    x = reqWidth\n",
      "    y = log2(reqWidth/reqLength)\n",
      "    \n",
      "    predictedCutouts = splineFit.ev(x,y)\n",
      "    \n",
      "    predictionGap = angle_gap(x,y,widthMirrored,ratioLogMirrored,1,2)\n",
      "    predictionGive = fit_give(x,y,widthMirrored,ratioLogMirrored,factorMirrored)\n",
      "    \n",
      "    ref4 = (predictionGap>parameters['gapThreshold']) | (predictionGive>parameters['giveThreshold'])\n",
      "    predictedCutouts[ref4] = nan\n",
      "    \n",
      "    predictedDf = pd.DataFrame(transpose([reqWidth, reqLength, predictionGap, predictionGive, predictedCutouts]))\n",
      "    predictedDf.columns = ['width', 'length', 'gap', 'give','factor']\n",
      "    display_html(predictedDf)"
     ],
     "language": "python",
     "metadata": {},
     "outputs": []
    },
    {
     "cell_type": "heading",
     "level": 3,
     "metadata": {},
     "source": [
      "Save requested factors to csv"
     ]
    },
    {
     "cell_type": "code",
     "collapsed": false,
     "input": [
      "if os.path.isfile(requestedCutoutFilepath):\n",
      "    \n",
      "    predictedCutoutsFilepath = modelOutputDirectory+\"/predicted-cutouts.csv\"\n",
      "    \n",
      "    predictedDf.to_csv(path_or_buf = predictedCutoutsFilepath, index=False)"
     ],
     "language": "python",
     "metadata": {},
     "outputs": []
    }
   ],
   "metadata": {}
  }
 ]
}