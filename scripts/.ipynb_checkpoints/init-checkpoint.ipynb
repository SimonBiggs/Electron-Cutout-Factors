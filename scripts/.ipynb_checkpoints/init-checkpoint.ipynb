{
 "metadata": {
  "name": "",
  "signature": "sha256:65c09a17d1ac5f99d050d3c4373f59d6bab0dd2643dca7a0fd7b8433a27ff777"
 },
 "nbformat": 3,
 "nbformat_minor": 0,
 "worksheets": [
  {
   "cells": [
    {
     "cell_type": "heading",
     "level": 1,
     "metadata": {},
     "source": [
      "Overview"
     ]
    },
    {
     "cell_type": "markdown",
     "metadata": {},
     "source": [
      "Explanation"
     ]
    },
    {
     "cell_type": "heading",
     "level": 2,
     "metadata": {},
     "source": [
      "Packages"
     ]
    },
    {
     "cell_type": "code",
     "collapsed": false,
     "input": [
      "import datetime\n",
      "import os\n",
      "import csv\n",
      "from glob import glob\n",
      "import subprocess"
     ],
     "language": "python",
     "metadata": {},
     "outputs": []
    },
    {
     "cell_type": "heading",
     "level": 2,
     "metadata": {},
     "source": [
      "The date and time at which this program was run"
     ]
    },
    {
     "cell_type": "code",
     "collapsed": false,
     "input": [
      "datetime.datetime.now().strftime(\"%Y-%m-%d %H:%M:%S\")"
     ],
     "language": "python",
     "metadata": {},
     "outputs": []
    },
    {
     "cell_type": "code",
     "collapsed": false,
     "input": [
      "pwd"
     ],
     "language": "python",
     "metadata": {},
     "outputs": []
    },
    {
     "cell_type": "heading",
     "level": 2,
     "metadata": {},
     "source": [
      "Retrieve and report user parameters"
     ]
    },
    {
     "cell_type": "code",
     "collapsed": false,
     "input": [
      "parameterFilepath = \"../input/parameters.csv\"\n",
      "\n",
      "reader = csv.reader(open(parameterFilepath),delimiter=',')\n",
      "parameters = dict(([x[0],float(x[1])] for x in reader))\n",
      "\n",
      "parameters"
     ],
     "language": "python",
     "metadata": {},
     "outputs": []
    },
    {
     "cell_type": "heading",
     "level": 2,
     "metadata": {},
     "source": [
      "Retrieve and report discovered input files"
     ]
    },
    {
     "cell_type": "code",
     "collapsed": false,
     "input": [
      "inputDataFilelist = glob(\"../input/data/*.csv\")"
     ],
     "language": "python",
     "metadata": {},
     "outputs": []
    },
    {
     "cell_type": "markdown",
     "metadata": {},
     "source": [
      "The list of csv files found in the input/data/ directory:"
     ]
    },
    {
     "cell_type": "code",
     "collapsed": false,
     "input": [
      "inputDataFilelist"
     ],
     "language": "python",
     "metadata": {},
     "outputs": []
    },
    {
     "cell_type": "heading",
     "level": 2,
     "metadata": {},
     "source": [
      "Run the model for each input data set"
     ]
    },
    {
     "cell_type": "code",
     "collapsed": false,
     "input": [
      "topOutputDirectory = os.environ.get('TOPOUTPUTDIRECTORY', -1)\n",
      "\n",
      "if topOutputDirectory == -1:\n",
      "    stamp = datetime.datetime.now().strftime(\"%Y%m%d_%H%M%S\")\n",
      "    topOutputDirectory = \"../output/\"+stamp\n",
      "    \n",
      "    print(\"Warning: top output directory was not retrievable\")\n",
      "\n",
      "if not os.path.exists(topOutputDirectory):\n",
      "    os.makedirs(topOutputDirectory)"
     ],
     "language": "python",
     "metadata": {},
     "outputs": []
    },
    {
     "cell_type": "code",
     "collapsed": false,
     "input": [
      "for i in range(len(inputDataFilelist)):\n",
      "    inputDataFilepath = inputDataFilelist[i]\n",
      "    inputDataFilename = os.path.basename(inputDataFilepath)[0:-4]\n",
      "    modelOutputDirectory = topOutputDirectory+\"/\"+inputDataFilename\n",
      "    \n",
      "    if not os.path.exists(modelOutputDirectory):\n",
      "        os.makedirs(modelOutputDirectory)\n",
      "        \n",
      "    os.environ[\"INPUTDATAFILEPATH\"] = inputDataFilepath\n",
      "    os.environ[\"MODELOUTPUTDIRECTORY\"] = modelOutputDirectory\n",
      "    \n",
      "    if os.name == 'posix':\n",
      "        subprocess.Popen(\"runipy model.ipynb --html \"+modelOutputDirectory+\"/\"+inputDataFilename+\"_report.html\", shell=True)\n",
      "    else:\n",
      "        subprocess.Popen(\"runipy model.ipynb --html \"+modelOutputDirectory+\"/\"+inputDataFilename+\"_report.html\")"
     ],
     "language": "python",
     "metadata": {},
     "outputs": [],
     "prompt_number": 44
    }
   ],
   "metadata": {}
  }
 ]
}