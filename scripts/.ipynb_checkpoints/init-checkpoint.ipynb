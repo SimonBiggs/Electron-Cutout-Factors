{
 "metadata": {
  "name": "",
  "signature": "sha256:159f1f0ac33046340872fada6f1267cc3290828e1cd92fe7afac91694f0b5e39"
 },
 "nbformat": 3,
 "nbformat_minor": 0,
 "worksheets": [
  {
   "cells": [
    {
     "cell_type": "heading",
     "level": 1,
     "metadata": {},
     "source": [
      "Overview"
     ]
    },
    {
     "cell_type": "markdown",
     "metadata": {},
     "source": [
      "Explaination"
     ]
    },
    {
     "cell_type": "heading",
     "level": 2,
     "metadata": {},
     "source": [
      "Packages"
     ]
    },
    {
     "cell_type": "code",
     "collapsed": false,
     "input": [
      "import datetime\n",
      "import os\n",
      "import csv\n",
      "from glob import glob\n",
      "import subprocess"
     ],
     "language": "python",
     "metadata": {},
     "outputs": [],
     "prompt_number": 6
    },
    {
     "cell_type": "code",
     "collapsed": false,
     "input": [
      "#from IPython.parallel import Client\n",
      "#os.system(\"ipcluster start -n 4\")\n",
      "#rc = Client()"
     ],
     "language": "python",
     "metadata": {},
     "outputs": []
    },
    {
     "cell_type": "heading",
     "level": 2,
     "metadata": {},
     "source": [
      "The time at which this program was run"
     ]
    },
    {
     "cell_type": "code",
     "collapsed": false,
     "input": [
      "datetime.datetime.now().strftime(\"%Y-%m-%d %H:%M:%S\")"
     ],
     "language": "python",
     "metadata": {},
     "outputs": [
      {
       "metadata": {},
       "output_type": "pyout",
       "prompt_number": 30,
       "text": [
        "'2014-08-05 10:26:26'"
       ]
      }
     ],
     "prompt_number": 30
    },
    {
     "cell_type": "heading",
     "level": 2,
     "metadata": {},
     "source": [
      "Retrieve and report user parameters"
     ]
    },
    {
     "cell_type": "code",
     "collapsed": false,
     "input": [
      "parameterFilepath = \"../input/parameters.csv\"\n",
      "\n",
      "reader = csv.reader(open(parameterFilepath),delimiter=',')\n",
      "parameters = list(reader)"
     ],
     "language": "python",
     "metadata": {},
     "outputs": [],
     "prompt_number": 31
    },
    {
     "cell_type": "heading",
     "level": 2,
     "metadata": {},
     "source": [
      "Retrieve and report discovered input files"
     ]
    },
    {
     "cell_type": "code",
     "collapsed": false,
     "input": [
      "inputDataFilelist = glob(\"../input/data/*.csv\")"
     ],
     "language": "python",
     "metadata": {},
     "outputs": [],
     "prompt_number": 32
    },
    {
     "cell_type": "markdown",
     "metadata": {},
     "source": [
      "The list of csv files found in the input/data/ directory:"
     ]
    },
    {
     "cell_type": "code",
     "collapsed": false,
     "input": [
      "inputDataFilelist"
     ],
     "language": "python",
     "metadata": {},
     "outputs": [
      {
       "metadata": {},
       "output_type": "pyout",
       "prompt_number": 33,
       "text": [
        "['../input/data\\\\10app6eng.csv', '../input/data\\\\6app6eng.csv']"
       ]
      }
     ],
     "prompt_number": 33
    },
    {
     "cell_type": "heading",
     "level": 2,
     "metadata": {},
     "source": [
      "Run the model for each input data set"
     ]
    },
    {
     "cell_type": "code",
     "collapsed": false,
     "input": [
      "topOutputDirectory = os.environ.get('TOPOUTPUTDIRECTORY', -1)\n",
      "\n",
      "if topOutputDirectory == -1:\n",
      "    stamp = datetime.datetime.now().strftime(\"%Y%m%d_%H%M%S\")\n",
      "    topOutputDirectory = \"../output/\"+stamp\n",
      "\n",
      "if not os.path.exists(topOutputDirectory):\n",
      "    os.makedirs(topOutputDirectory)"
     ],
     "language": "python",
     "metadata": {},
     "outputs": []
    },
    {
     "cell_type": "code",
     "collapsed": false,
     "input": [
      "for i in range(len(inputDataFilelist)):\n",
      "    inputDataFilepath = inputDataFilelist[i]\n",
      "    inputDataFilename = os.path.basename(inputDataFilepath)[0:-4]\n",
      "    modelOutputDirectory = topOutputDirectory+\"/\"+inputDataFilename\n",
      "    \n",
      "    if not os.path.exists(modelOutputDirectory):\n",
      "        os.makedirs(modelOutputDirectory)\n",
      "        \n",
      "    os.environ[\"INPUTDATAFILEPATH\"] = inputDataFilepath\n",
      "    os.environ[\"MODELOUTPUTDIRECTORY\"] = modelOutputDirectory\n",
      "    \n",
      "    subprocess.Popen(\"runipy model.ipynb --html \"+modelOutputDirectory+\"/\"+inputDataFilename+\"_report.html\")"
     ],
     "language": "python",
     "metadata": {},
     "outputs": []
    }
   ],
   "metadata": {}
  }
 ]
}