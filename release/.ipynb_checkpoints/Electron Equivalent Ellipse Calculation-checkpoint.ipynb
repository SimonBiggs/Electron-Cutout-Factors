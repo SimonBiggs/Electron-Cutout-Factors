{
 "metadata": {
  "name": "",
  "signature": "sha256:d5b5ba2a588dac9b6a092ba19df0f710dcfa90e232f016ac3279b6c33d3988aa"
 },
 "nbformat": 3,
 "nbformat_minor": 0,
 "worksheets": [
  {
   "cells": [
    {
     "cell_type": "heading",
     "level": 1,
     "metadata": {},
     "source": [
      "Electron equivalent ellipse calculation"
     ]
    },
    {
     "cell_type": "markdown",
     "metadata": {},
     "source": [
      "This calculates the length and width of the equivalent ellipse of cutouts defined appropriately within `shape_definition_x_coords.csv` and `shape_definition_y_coords.csv`. The measured cutout factors defined within `measured_cutout_factors.csv` are also used to calculate the equivalent ellipse.\n",
      "\n",
      "The widths and lengths are then output into `measured_cutout_factors.csv` for the input into `Electron Spline Modelling.ipynb`."
     ]
    },
    {
     "cell_type": "code",
     "collapsed": false,
     "input": [
      "energyRequest = 12\n",
      "applicatorRequest = 10"
     ],
     "language": "python",
     "metadata": {},
     "outputs": [],
     "prompt_number": 1
    },
    {
     "cell_type": "code",
     "collapsed": false,
     "input": [],
     "language": "python",
     "metadata": {},
     "outputs": [],
     "prompt_number": 1
    },
    {
     "cell_type": "code",
     "collapsed": false,
     "input": [],
     "language": "python",
     "metadata": {},
     "outputs": [],
     "prompt_number": 1
    },
    {
     "cell_type": "heading",
     "level": 2,
     "metadata": {},
     "source": [
      "Loading/installing modules"
     ]
    },
    {
     "cell_type": "code",
     "collapsed": false,
     "input": [
      "try:\n",
      "    import shapely.geometry as geo\n",
      "    import shapely.affinity as aff\n",
      "    \n",
      "except:\n",
      "    !pip install shapely\n",
      "    import shapely.geometry as geo\n",
      "    import shapely.affinity as aff\n",
      "    \n",
      "\n",
      "try:\n",
      "    from descartes.patch import PolygonPatch\n",
      "    \n",
      "except:\n",
      "    !pip install descartes\n",
      "    from descartes.patch import PolygonPatch\n",
      "    \n",
      "\n",
      "import numpy as np\n",
      "import pandas as pd\n",
      "\n",
      "import matplotlib.pyplot as plt\n",
      "from matplotlib import pylab\n",
      "%matplotlib inline\n",
      "\n",
      "from scipy.optimize import basinhopping\n",
      "from scipy.interpolate import UnivariateSpline\n",
      "from scipy.interpolate import SmoothBivariateSpline\n",
      "\n",
      "import os"
     ],
     "language": "python",
     "metadata": {},
     "outputs": [],
     "prompt_number": 2
    },
    {
     "cell_type": "code",
     "collapsed": false,
     "input": [],
     "language": "python",
     "metadata": {},
     "outputs": [],
     "prompt_number": 2
    },
    {
     "cell_type": "heading",
     "level": 2,
     "metadata": {},
     "source": [
      "Importing input data"
     ]
    },
    {
     "cell_type": "code",
     "collapsed": false,
     "input": [
      "shape_definition_x_coords = pd.read_csv(\"shape_definition_x_coords.csv\")\n",
      "shape_definition_y_coords = pd.read_csv(\"shape_definition_y_coords.csv\")\n",
      "\n",
      "parsedInputs = pd.read_csv('parsed_inputs/%dMeV_%dcm.csv' %(energyRequest, applicatorRequest))\n",
      "\n",
      "label = parsedInputs['label'].values\n",
      "\n",
      "guessWidth = parsedInputs['width'].values\n",
      "guessLength = parsedInputs['length'].values\n",
      "factor = parsedInputs['cutout factor'].values\n",
      "\n",
      "runInitialGuess = parsedInputs['make initial guess'].values\n",
      "useForFitting = parsedInputs['use for fitting'].values\n",
      "calcWidthLength = parsedInputs['recalc width and length'].values"
     ],
     "language": "python",
     "metadata": {},
     "outputs": [],
     "prompt_number": 3
    },
    {
     "cell_type": "heading",
     "level": 2,
     "metadata": {},
     "source": [
      "Class definitions"
     ]
    },
    {
     "cell_type": "heading",
     "level": 3,
     "metadata": {},
     "source": [
      "Equivalent ellipse fitting"
     ]
    },
    {
     "cell_type": "code",
     "collapsed": false,
     "input": [
      "def shapely_cutout(XCoords,YCoords):\n",
      "    \"\"\"Returns the shapely cutout defined by the x and y coordinates.\n",
      "    \"\"\"\n",
      "    return geo.Polygon(np.transpose((XCoords,YCoords)))\n",
      "\n",
      "\n",
      "def shapely_ellipse(ellipseRaw):\n",
      "    \"\"\"Given raw ellipse values create a shapely ellipse.\n",
      "    \"\"\"\n",
      "    xPosition = ellipseRaw[0]\n",
      "    yPosition = ellipseRaw[1]\n",
      "\n",
      "    width = ellipseRaw[2]\n",
      "    length = ellipseRaw[3]\n",
      "\n",
      "    rotation = ellipseRaw[4]\n",
      "\n",
      "\n",
      "    unitCircle = geo.Point(0,0).buffer(1)        \n",
      "    ellipse = aff.scale(unitCircle, xfact=width/2, yfact=length/2)    # Stretched\n",
      "    ellipse = aff.translate(ellipse, xoff=xPosition, yoff=yPosition)  # Translated\n",
      "    ellipse = aff.rotate(ellipse, rotation)                           # Rotated\n",
      "\n",
      "    return ellipse"
     ],
     "language": "python",
     "metadata": {},
     "outputs": [],
     "prompt_number": 38
    },
    {
     "cell_type": "code",
     "collapsed": false,
     "input": [
      "class equivalent_ellipse(object):\n",
      "    \"\"\"An equivalent ellipse given the x and y coordinates of a cutout.\n",
      "    \"\"\"\n",
      "    def __init__(self, n=5, debug=False, **kwargs):\n",
      "        \n",
      "        self.debug = debug\n",
      "        \n",
      "        self.cutoutXCoords = kwargs['x']\n",
      "        self.cutoutYCoords = kwargs['y']\n",
      "        self.cutout = shapely_cutout(self.cutoutXCoords,self.cutoutYCoords)\n",
      "                \n",
      "        self.basinRequiredSuccess = n\n",
      "        self.ellipseRaw = self.ellipse_basinhopping()\n",
      "        \n",
      "        if abs(self.ellipseRaw[2]) < abs(self.ellipseRaw[3]):\n",
      "            \n",
      "            self.width = abs(self.ellipseRaw[2])\n",
      "            self.length = abs(self.ellipseRaw[3])\n",
      "            \n",
      "        else:\n",
      "            \n",
      "            self.width = abs(self.ellipseRaw[3])\n",
      "            self.length = abs(self.ellipseRaw[2])\n",
      " \n",
      "            \n",
      "        self.ellipse = shapely_ellipse(self.ellipseRaw)\n",
      "    \n",
      "    \n",
      "\n",
      " \n",
      "    \n",
      "    def minimise_function(self, ellipseRaw):\n",
      "        \"\"\"Returns the sum of area differences between the an ellipse and the given cutout.\n",
      "        \"\"\"\n",
      "        ellipse = shapely_ellipse(ellipseRaw)\n",
      "        \n",
      "        return ellipse.difference(self.cutout).area + self.cutout.difference(ellipse).area\n",
      "        \n",
      "    \n",
      "    def ellipse_basinhopping(self):\n",
      "        \"\"\"Fitting the ellipse to the cutout via scipy.optimize.basinhopping.\n",
      "        \"\"\"\n",
      "        self.functionReturns = np.empty(self.basinRequiredSuccess)\n",
      "        self.functionReturns[:] = np.nan\n",
      "        \n",
      "        self.numSuccess = 0\n",
      "        \n",
      "        minimizerConfig = {\"method\": 'BFGS'}\n",
      "        \n",
      "        initial_input = np.array([0,0,3,4,0])\n",
      "        \n",
      "        \n",
      "        basinhoppingOutput = basinhopping(self.minimise_function,\n",
      "                                          initial_input,\n",
      "                                          niter=1000,\n",
      "                                          minimizer_kwargs=minimizerConfig,\n",
      "                                          take_step=self.step_function,\n",
      "                                          callback=self.callback_function)\n",
      "        \n",
      "        return basinhoppingOutput.x\n",
      "        \n",
      "        \n",
      "    def step_function(self,optimiserInput):\n",
      "        \"\"\"Step function used by self.ellipse_basinhopping.\n",
      "        \"\"\"\n",
      "        optimiserInput[0] += np.random.normal(scale=1.5)   # x-position\n",
      "        optimiserInput[1] += np.random.normal(scale=1.5)   # y-position\n",
      "        optimiserInput[2] += np.random.normal(scale=3)     # width\n",
      "        optimiserInput[3] += np.random.normal(scale=4)     # length\n",
      "        optimiserInput[4] += np.random.normal(scale=90)    # rotation\n",
      "        \n",
      "        return optimiserInput\n",
      "    \n",
      "    \n",
      "    def callback_function(self, optimiserOutput, minimiseFunctionOutput, minimiseAccepted):\n",
      "        \"\"\"Callback function used by self.ellipse_basinhopping.\n",
      "        \"\"\"        \n",
      "        if self.debug:\n",
      "            print(optimiserOutput)\n",
      "            print(minimiseFunctionOutput)\n",
      "            print(minimiseAccepted)\n",
      "            print(\" \")\n",
      "        \n",
      "        if minimiseAccepted:\n",
      "            \n",
      "            if self.numSuccess == 0:\n",
      "                # First result\n",
      "                self.functionReturns[0] = minimiseFunctionOutput\n",
      "                self.numSuccess = 1\n",
      "                \n",
      "            elif minimiseFunctionOutput >= np.nanmin(self.functionReturns) + 0.0001:\n",
      "                # Reject result\n",
      "                0\n",
      "                \n",
      "            elif minimiseFunctionOutput >= np.nanmin(self.functionReturns) - 0.0001:\n",
      "                # Agreeing result\n",
      "                self.functionReturns[self.numSuccess] = minimiseFunctionOutput\n",
      "                self.numSuccess += 1\n",
      "            \n",
      "            elif minimiseFunctionOutput < np.nanmin(self.functionReturns) - 0.0001:\n",
      "                # New result\n",
      "                self.functionReturns[0] = minimiseFunctionOutput\n",
      "                self.numSuccess = 1\n",
      "        \n",
      "        if self.numSuccess >= self.basinRequiredSuccess:\n",
      "            return True\n",
      "        "
     ],
     "language": "python",
     "metadata": {},
     "outputs": [],
     "prompt_number": 39
    },
    {
     "cell_type": "heading",
     "level": 3,
     "metadata": {},
     "source": [
      "Make bivariate spline"
     ]
    },
    {
     "cell_type": "code",
     "collapsed": false,
     "input": [
      "def make_spline_model(**kwargs):\n",
      "    \n",
      "    width = kwargs['width']\n",
      "    length = kwargs['length']\n",
      "    \n",
      "    ratio = width/length\n",
      "    eqPonA = 2*( 3*(ratio+1) - np.sqrt( (3*ratio+1)*(ratio+3) ) ) / width\n",
      "    \n",
      "    factor = kwargs['factor']\n",
      "    \n",
      "    return SmoothBivariateSpline(width, eqPonA, factor, kx=2, ky=2)\n"
     ],
     "language": "python",
     "metadata": {},
     "outputs": [],
     "prompt_number": 48
    },
    {
     "cell_type": "heading",
     "level": 3,
     "metadata": {},
     "source": [
      "Finding centre with sector integration"
     ]
    },
    {
     "cell_type": "code",
     "collapsed": false,
     "input": [
      "class find_centre(object):\n",
      "    \n",
      "    def __init__(self, n=100, **kwargs):\n",
      "        \n",
      "        self.cutoutXCoords = kwargs['x']\n",
      "        self.cutoutYCoords = kwargs['y']\n",
      "        self.cutout = shapely_cutout(self.cutoutXCoords,self.cutoutYCoords)\n",
      "        \n",
      "        self.spline = kwargs['spline']\n",
      "        \n",
      "        self.numSectors = n\n",
      "    \n",
      "    \n",
      "    def circle_fit(self,radii):\n",
      "        \n",
      "        width = 2*radii\n",
      "        eqPonA = 4/width\n",
      "        \n",
      "        return self.spline.ev(width,eqPonA)\n",
      "        \n",
      "        \n",
      "    def sector_coords(self):\n",
      "        \n",
      "        exterior = geo.LineString(self.cutout.exterior.coords)\n",
      "\n",
      "        steps = linspace(0,1,self.numSectors)\n",
      "        \n",
      "        for i in range(self.numSectors):\n",
      "            \n",
      "        \n",
      "        \n",
      "    "
     ],
     "language": "python",
     "metadata": {},
     "outputs": [],
     "prompt_number": 54
    },
    {
     "cell_type": "code",
     "collapsed": false,
     "input": [
      "spline_test = make_spline_model(width=guessWidth[useForFitting],\n",
      "                                length=guessLength[useForFitting],\n",
      "                                factor=factor[useForFitting])\n",
      "                   \n",
      "                   \n",
      "\n",
      "\n",
      "cutoutXCoords, cutoutYCoords = return_coords(label[i])\n",
      "\n",
      "\n",
      "\n",
      "test = find_centre(x=cutoutXCoords,\n",
      "                   y=cutoutYCoords,\n",
      "                   spline=spline_test)"
     ],
     "language": "python",
     "metadata": {},
     "outputs": [],
     "prompt_number": 55
    },
    {
     "cell_type": "code",
     "collapsed": false,
     "input": [
      "guessWidth"
     ],
     "language": "python",
     "metadata": {},
     "outputs": [
      {
       "metadata": {},
       "output_type": "pyout",
       "prompt_number": 33,
       "text": [
        "array([ 4.53605461,  7.24513953,  4.4       ,  6.1       ,  7.6       ,\n",
        "        5.8       ,  4.3       ,  5.2       ,  7.        ,  4.7       ,\n",
        "        6.9       ,  6.1       ,  3.6       ,  5.9       ,  7.5       ,\n",
        "        7.25300665,  6.3       ,  5.8       ,  5.7       ,  6.1       ,\n",
        "        6.3       ,  3.5       ,         nan,  8.        ,  6.        ,\n",
        "        4.        ,  7.        ,  3.        ,  5.        ,  5.        ,\n",
        "        4.        ,  4.        ,  5.        ,  3.        ,  3.        ,\n",
        "        4.        ,  3.        ,  4.        ,  5.        ,  3.        ])"
       ]
      }
     ],
     "prompt_number": 33
    },
    {
     "cell_type": "code",
     "collapsed": false,
     "input": [
      "t = np.linspace(0,6)\n",
      "y = test.circle_fit(t)\n",
      "\n",
      "plt.plot(t,y)"
     ],
     "language": "python",
     "metadata": {},
     "outputs": [
      {
       "metadata": {},
       "output_type": "pyout",
       "prompt_number": 56,
       "text": [
        "[<matplotlib.lines.Line2D at 0xaca34a8>]"
       ]
      },
      {
       "metadata": {},
       "output_type": "display_data",
       "png": "[encoded data removed]",
       "text": [
        "<matplotlib.figure.Figure at 0xaca20f0>"
       ]
      }
     ],
     "prompt_number": 56
    },
    {
     "cell_type": "code",
     "collapsed": false,
     "input": [
      "# width"
     ],
     "language": "python",
     "metadata": {},
     "outputs": [],
     "prompt_number": 10
    },
    {
     "cell_type": "heading",
     "level": 3,
     "metadata": {},
     "source": [
      "Shape straightening"
     ]
    },
    {
     "cell_type": "code",
     "collapsed": false,
     "input": [],
     "language": "python",
     "metadata": {},
     "outputs": [],
     "prompt_number": 10
    },
    {
     "cell_type": "code",
     "collapsed": false,
     "input": [],
     "language": "python",
     "metadata": {},
     "outputs": [],
     "prompt_number": 10
    },
    {
     "cell_type": "heading",
     "level": 3,
     "metadata": {},
     "source": [
      "Useful functions"
     ]
    },
    {
     "cell_type": "code",
     "collapsed": false,
     "input": [
      "def return_coords(requestedLabel):\n",
      "    \n",
      "    cutoutXCoords = shape_definition_x_coords[requestedLabel].values\n",
      "    cutoutXCoords = cutoutXCoords[~np.isnan(cutoutXCoords)]\n",
      "    \n",
      "    cutoutYCoords = shape_definition_y_coords[requestedLabel].values\n",
      "    cutoutYCoords = cutoutYCoords[~np.isnan(cutoutYCoords)]\n",
      "    \n",
      "    return cutoutXCoords, cutoutYCoords"
     ],
     "language": "python",
     "metadata": {},
     "outputs": [],
     "prompt_number": 40
    },
    {
     "cell_type": "heading",
     "level": 2,
     "metadata": {},
     "source": [
      "Main"
     ]
    },
    {
     "cell_type": "code",
     "collapsed": false,
     "input": [],
     "language": "python",
     "metadata": {},
     "outputs": [],
     "prompt_number": 10
    },
    {
     "cell_type": "heading",
     "level": 3,
     "metadata": {},
     "source": [
      "Initial width and length guess"
     ]
    },
    {
     "cell_type": "code",
     "collapsed": false,
     "input": [
      "eqEllipses = [0,] * len(label)\n",
      "\n",
      "\n",
      "for i in np.where(runInitialGuess)[0]:\n",
      "    \n",
      "    cutoutXCoords, cutoutYCoords = return_coords(label[i])\n",
      "    \n",
      "    eqEllipses[i] = equivalent_ellipse(x=cutoutXCoords,\n",
      "                                       y=cutoutYCoords,\n",
      "                                       n=2)\n",
      "    \n",
      "    guessWidth[i] = eqEllipses[i].width\n",
      "    guessLength[i] = eqEllipses[i].length\n",
      "    \n",
      "    \n",
      "    plt.plot(eqEllipses[i].cutout.exterior.xy[0],eqEllipses[i].cutout.exterior.xy[1])\n",
      "    plt.plot(eqEllipses[i].ellipse.exterior.xy[0],eqEllipses[i].ellipse.exterior.xy[1])\n",
      "\n",
      "    plt.axis(\"equal\")\n",
      "\n",
      "    plt.show()"
     ],
     "language": "python",
     "metadata": {},
     "outputs": [
      {
       "metadata": {},
       "output_type": "display_data",
       "png": "[encoded data removed]",
       "text": [
        "<matplotlib.figure.Figure at 0x47ecfd0>"
       ]
      },
      {
       "metadata": {},
       "output_type": "display_data",
       "png": "[encoded data removed]",
       "text": [
        "<matplotlib.figure.Figure at 0xab5bbe0>"
       ]
      },
      {
       "metadata": {},
       "output_type": "display_data",
       "png": "[encoded data removed]",
       "text": [
        "<matplotlib.figure.Figure at 0xad121d0>"
       ]
      }
     ],
     "prompt_number": 41
    }
   ],
   "metadata": {}
  }
 ]
}